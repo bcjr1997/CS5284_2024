{
 "cells": [
  {
   "cell_type": "markdown",
   "metadata": {
    "id": "WculWPI2Cwd8"
   },
   "source": [
    "# Lecture : Graph Generation Models\n",
    "\n",
    "## Lab 02 : Variational autoencoders (VAE) for QM9 molecular graphs\n",
    "\n",
    "### Xavier Bresson, Nian Liu\n"
   ]
  },
  {
   "cell_type": "code",
   "execution_count": 1,
   "metadata": {},
   "outputs": [],
   "source": [
    "# For Google Colaboratory\n",
    "import sys, os\n",
    "if 'google.colab' in sys.modules:\n",
    "    # mount google drive\n",
    "    from google.colab import drive\n",
    "    drive.mount('/content/gdrive')\n",
    "    path_to_file = '/content/gdrive/My Drive/CS5284_2024_codes/codes/11_Graph_Generation'\n",
    "    print(path_to_file)\n",
    "    # change current path to the folder containing \"path_to_file\"\n",
    "    os.chdir(path_to_file)\n",
    "    !pwd \n",
    "    !pip install rdkit==2023.09.6 # Install RDKit\n",
    "    "
   ]
  },
  {
   "cell_type": "code",
   "execution_count": 2,
   "metadata": {},
   "outputs": [
    {
     "name": "stderr",
     "output_type": "stream",
     "text": [
      "/home/bcjr1997/.local/lib/python3.10/site-packages/matplotlib/projections/__init__.py:63: UserWarning: Unable to import Axes3D. This may be due to multiple versions of Matplotlib being installed (e.g. as a system package and as a pip package). As a result, the 3D projection is not available.\n",
      "  warnings.warn(\"Unable to import Axes3D. This may be due to multiple versions of \"\n"
     ]
    },
    {
     "name": "stdout",
     "output_type": "stream",
     "text": [
      "2.0.1+cu118\n",
      "NVIDIA GeForce RTX 4090 Laptop GPU\n",
      "cuda:0\n"
     ]
    }
   ],
   "source": [
    "# Libraries\n",
    "import os\n",
    "import time\n",
    "from rdkit import Chem\n",
    "from rdkit import RDLogger; RDLogger.DisableLog('rdApp.*')\n",
    "import torch\n",
    "import torch.nn as nn\n",
    "import torch.optim as optim\n",
    "import pickle\n",
    "import numpy as np\n",
    "import matplotlib.pyplot as plt\n",
    "import math\n",
    "import sys; sys.path.insert(0, 'lib/')\n",
    "from lib.molecules import Dictionary, Molecule, from_pymol_to_smile\n",
    "\n",
    "# PyTorch version and GPU\n",
    "print(torch.__version__)\n",
    "if torch.cuda.is_available():\n",
    "  print(torch.cuda.get_device_name(0))\n",
    "  device= torch.device(\"cuda:0\") # use GPU\n",
    "else:\n",
    "  device= torch.device(\"cpu\")\n",
    "print(device)\n"
   ]
  },
  {
   "cell_type": "markdown",
   "metadata": {},
   "source": [
    "## Loading molecular datasets (PyTorch format)"
   ]
  },
  {
   "cell_type": "code",
   "execution_count": 3,
   "metadata": {},
   "outputs": [
    {
     "name": "stdout",
     "output_type": "stream",
     "text": [
      "Loading data...\n",
      "dataset/QM9_1.4k_pytorch/\n",
      "Time: 0.5322558879852295\n",
      "num train data : 1000\n",
      "atom_dict.idx2word : ['N', 'C', 'O', 'F', 'N H3 +', 'O -', 'C H1 -', 'N +', 'N -']\n",
      "atom_dict.word2idx : {'N': 0, 'C': 1, 'O': 2, 'F': 3, 'N H3 +': 4, 'O -': 5, 'C H1 -': 6, 'N +': 7, 'N -': 8}\n",
      "bond_dict.idx2word : ['NONE', 'SINGLE', 'DOUBLE', 'TRIPLE']\n",
      "bond_dict.word2idx : {'NONE': 0, 'SINGLE': 1, 'DOUBLE': 2, 'TRIPLE': 3}\n",
      "9 4\n",
      "train[idx].atom_type : tensor([1, 1, 2, 1, 1, 1, 1])\n",
      "train[idx].atom_type_pe : tensor([0, 1, 0, 2, 3, 4, 5])\n",
      "train[idx].bond_type : tensor([[0, 1, 0, 0, 0, 0, 0],\n",
      "        [1, 0, 1, 1, 0, 0, 0],\n",
      "        [0, 1, 0, 0, 0, 0, 0],\n",
      "        [0, 1, 0, 0, 1, 1, 0],\n",
      "        [0, 0, 0, 1, 0, 1, 0],\n",
      "        [0, 0, 0, 1, 1, 0, 1],\n",
      "        [0, 0, 0, 0, 0, 1, 0]])\n",
      "train[idx].bag_of_atoms : tensor([0, 6, 1, 0, 0, 0, 0, 0, 0])\n",
      "train[idx].smile:  CC(O)C1CC1C\n"
     ]
    },
    {
     "data": {
      "image/png": "[encoded data removed]",
      "text/plain": [
       "<rdkit.Chem.rdchem.Mol at 0x7f492549d7e0>"
      ]
     },
     "execution_count": 3,
     "metadata": {},
     "output_type": "execute_result"
    }
   ],
   "source": [
    "print('Loading data...') \n",
    "start = time.time()\n",
    "\n",
    "data_folder_pytorch = 'dataset/QM9_1.4k_pytorch/'\n",
    "print(data_folder_pytorch)\n",
    "\n",
    "with open(data_folder_pytorch+\"atom_dict.pkl\",\"rb\") as f:\n",
    "    atom_dict=pickle.load(f)\n",
    "with open(data_folder_pytorch+\"bond_dict.pkl\",\"rb\") as f:\n",
    "    bond_dict=pickle.load(f)\n",
    "with open(data_folder_pytorch+\"test_pytorch.pkl\",\"rb\") as f:\n",
    "    test=pickle.load(f)\n",
    "with open(data_folder_pytorch+\"val_pytorch.pkl\",\"rb\") as f:\n",
    "    val=pickle.load(f)\n",
    "with open(data_folder_pytorch+\"train_pytorch.pkl\",\"rb\") as f:\n",
    "    train=pickle.load(f)\n",
    "print('Time:',time.time()-start)\n",
    "\n",
    "print('num train data :',len(train)) \n",
    "\n",
    "print('atom_dict.idx2word :',atom_dict.idx2word)\n",
    "print('atom_dict.word2idx :',atom_dict.word2idx)\n",
    "print('bond_dict.idx2word :',bond_dict.idx2word)\n",
    "print('bond_dict.word2idx :',bond_dict.word2idx)\n",
    "\n",
    "num_atom_type = len(atom_dict.idx2word)\n",
    "num_bond_type = len(bond_dict.idx2word)\n",
    "print(num_atom_type, num_bond_type)\n",
    "\n",
    "idx = 45\n",
    "print('train[idx].atom_type :',train[idx].atom_type)\n",
    "print('train[idx].atom_type_pe :',train[idx].atom_type_pe)\n",
    "print('train[idx].bond_type :',train[idx].bond_type)\n",
    "print('train[idx].bag_of_atoms :',train[idx].bag_of_atoms)\n",
    "print('train[idx].smile: ',train[idx].smile)\n",
    "mol = Chem.MolFromSmiles(train[idx].smile)\n",
    "mol\n"
   ]
  },
  {
   "cell_type": "markdown",
   "metadata": {},
   "source": [
    "## Print dataset statistics"
   ]
  },
  {
   "cell_type": "code",
   "execution_count": 4,
   "metadata": {},
   "outputs": [
    {
     "name": "stdout",
     "output_type": "stream",
     "text": [
      "136\n",
      "Max num atoms =  9\n",
      "Train\n",
      "number of molecule of size 4: \t 1\n",
      "number of molecule of size 5: \t 1\n",
      "number of molecule of size 6: \t 7\n",
      "number of molecule of size 7: \t 24\n",
      "number of molecule of size 8: \t 136\n",
      "number of molecule of size 9: \t 831\n",
      "Val\n",
      "number of molecule of size 7: \t 6\n",
      "number of molecule of size 8: \t 28\n",
      "number of molecule of size 9: \t 166\n",
      "Test\n",
      "number of molecule of size 6: \t 1\n",
      "number of molecule of size 7: \t 3\n",
      "number of molecule of size 8: \t 37\n",
      "number of molecule of size 9: \t 159\n"
     ]
    }
   ],
   "source": [
    "# Organize data into group of of molecules of fixed sized\n",
    "# Example: train[9] is a list containing all the molecules of size 9  \n",
    "def group_molecules_per_size(dataset):\n",
    "    mydict={}\n",
    "    for mol in dataset:\n",
    "        if len(mol) not in mydict:\n",
    "            mydict[len(mol)]=[]\n",
    "        mydict[len(mol)].append(mol)\n",
    "    return mydict\n",
    "test_group  = group_molecules_per_size(test)\n",
    "val_group   = group_molecules_per_size(val)\n",
    "train_group = group_molecules_per_size(train)\n",
    "print(len(train_group[8])) # QM9\n",
    "\n",
    "# largest size of molecule in the trainset\n",
    "max_mol_sz = max(list( train_group.keys()))\n",
    "print('Max num atoms = ', max_mol_sz)\n",
    "\n",
    "# print distribution w.r.t. molecule size\n",
    "def print_distribution(data):\n",
    "    for nb_atom in range(max_mol_sz+1):\n",
    "        try: \n",
    "            print('number of molecule of size {}: \\t {}'.format(nb_atom, len(data[nb_atom])))\n",
    "        except:\n",
    "            pass\n",
    "print('Train'); print_distribution(train_group)\n",
    "print('Val'); print_distribution(val_group)\n",
    "print('Test'); print_distribution(test_group)\n"
   ]
  },
  {
   "cell_type": "markdown",
   "metadata": {},
   "source": [
    "## Generate batch of pytorch molecules of same size"
   ]
  },
  {
   "cell_type": "code",
   "execution_count": 5,
   "metadata": {},
   "outputs": [
    {
     "name": "stdout",
     "output_type": "stream",
     "text": [
      "sampler.num_mol : {9: 831, 8: 136, 7: 24, 6: 7, 5: 1, 4: 1}\n",
      "num_batches_remaining : {9: 17, 8: 3, 7: 1, 6: 1, 5: 1, 4: 1}\n",
      "sz : 9\n",
      "indices : 50 [375 143 612 355 485 261 632 629  40 709 491 329 222 249 310 170 759 217\n",
      " 320 748 812 603 800 577 377  25 788 209  89  64 229 824  36  95 755 487\n",
      " 732 131 737 651 746 644 129 401 560 674 589 369 415  86]\n",
      "minibatch_node : torch.Size([50, 9])\n",
      "minibatch_pe : torch.Size([50, 9])\n",
      "minibatch_edge : torch.Size([50, 9, 9])\n",
      "minibatch_boa : torch.Size([50, 9])\n"
     ]
    }
   ],
   "source": [
    "# A class to help drawing batches of molecules with the same size\n",
    "class MoleculeSampler:\n",
    "    def __init__(self, organized_dataset, bs , shuffle=True):  \n",
    "        self.bs = bs\n",
    "        self.num_mol =  { sz: len(list_of_mol)  for sz , list_of_mol in organized_dataset.items() }\n",
    "        self.counter = { sz: 0   for sz in organized_dataset }\n",
    "        if shuffle:\n",
    "            self.order = { sz: np.random.permutation(num)  for sz , num in self.num_mol.items() }\n",
    "        else:\n",
    "            self.order = { sz: np.arange(num)  for sz , num in self.num_mol.items() } \n",
    "\n",
    "    def compute_num_batches_remaining(self):\n",
    "        return {sz:  math.ceil(((self.num_mol[sz] - self.counter[sz])/self.bs))  for sz in self.num_mol} \n",
    "\n",
    "    def choose_molecule_size(self):\n",
    "        num_batches = self.compute_num_batches_remaining()\n",
    "        possible_sizes =  np.array( list( num_batches.keys()) )\n",
    "        prob           =  np.array( list( num_batches.values() )   ) \n",
    "        prob =  prob / prob.sum()\n",
    "        sz   = np.random.choice(  possible_sizes , p=prob )\n",
    "        return sz\n",
    "\n",
    "    def is_empty(self):\n",
    "        num_batches= self.compute_num_batches_remaining()\n",
    "        return sum( num_batches.values() ) == 0\n",
    "\n",
    "    def draw_batch_of_molecules(self, sz):  \n",
    "        num_batches = self.compute_num_batches_remaining()\n",
    "        if (self.num_mol[sz] - self.counter[sz])/self.bs >= 1.0:\n",
    "            bs = self.bs\n",
    "        else:\n",
    "            bs = self.num_mol[sz] - (self.num_mol[sz]//self.bs) * self.bs\n",
    "        #print('sz, bs',sz, bs)\n",
    "        indices = self.order[sz][ self.counter[sz] : self.counter[sz] + bs]\n",
    "        self.counter[sz] += bs \n",
    "        return indices\n",
    "\n",
    "# extract one mini-batch\n",
    "bs = 50\n",
    "sampler = MoleculeSampler(train_group, bs)\n",
    "print('sampler.num_mol :',sampler.num_mol)\n",
    "while(not sampler.is_empty()):\n",
    "    num_batches_remaining = sampler.compute_num_batches_remaining()\n",
    "    print('num_batches_remaining :',num_batches_remaining)\n",
    "    sz = sampler.choose_molecule_size()\n",
    "    print('sz :',sz)\n",
    "    indices = sampler.draw_batch_of_molecules(sz) \n",
    "    print('indices :',len(indices),indices)\n",
    "    minibatch_node = torch.stack( [ train_group[sz][i].atom_type for i in indices] )\n",
    "    print('minibatch_node :',minibatch_node.size())\n",
    "    minibatch_pe  = torch.stack( [ train_group[sz][i].atom_type_pe  for i in indices] )\n",
    "    print('minibatch_pe :',minibatch_pe.size())\n",
    "    minibatch_edge = torch.stack( [ train_group[sz][i].bond_type for i in indices] )\n",
    "    print('minibatch_edge :',minibatch_edge.size())\n",
    "    minibatch_boa = torch.stack( [ train_group[sz][i].bag_of_atoms for i in indices] )\n",
    "    print('minibatch_boa :',minibatch_boa.size())\n",
    "    break\n",
    "    print('---------------------------------------')\n"
   ]
  },
  {
   "cell_type": "markdown",
   "metadata": {},
   "source": [
    "## Sample molecule size"
   ]
  },
  {
   "cell_type": "code",
   "execution_count": 6,
   "metadata": {},
   "outputs": [
    {
     "name": "stdout",
     "output_type": "stream",
     "text": [
      "sampler_size.num_mol : {9: 831, 8: 136, 7: 24, 6: 7, 5: 1, 4: 1}\n",
      "sz : 9\n"
     ]
    }
   ],
   "source": [
    "# A class to sample a molecule size w.r.t. the train distribution\n",
    "class sample_molecule_size:\n",
    "    def __init__(self, organized_dataset):  \n",
    "        self.num_mol =  { sz: len(list_of_mol)  for sz , list_of_mol in organized_dataset.items() }\n",
    "        self.num_batches_remaining = { sz:  self.num_mol[sz]  for sz in self.num_mol } \n",
    "    def choose_molecule_size(self):\n",
    "        num_batches = self.num_batches_remaining\n",
    "        possible_sizes =  np.array( list( num_batches.keys()) )\n",
    "        prob           =  np.array( list( num_batches.values() )   ) \n",
    "        prob =  prob / prob.sum()\n",
    "        sz   = np.random.choice(  possible_sizes , p=prob )\n",
    "        return sz\n",
    "        \n",
    "sampler_size = sample_molecule_size(train_group)\n",
    "print('sampler_size.num_mol :',sampler_size.num_mol)\n",
    "sz = sampler_size.choose_molecule_size()\n",
    "print('sz :',sz)\n"
   ]
  },
  {
   "cell_type": "markdown",
   "metadata": {},
   "source": [
    "# VAE [1] with Graph Transformers [2]\n",
    "\n",
    "[1] Kingma, Welling, Auto-Encoding Variational Bayes, 2013, https://arxiv.org/pdf/1312.6114   \n",
    "[2] Dwivedi, Bresson, A generalization of transformer networks to graphs, 2020, https://arxiv.org/pdf/2012.09699.pdf  \n"
   ]
  },
  {
   "cell_type": "code",
   "execution_count": 7,
   "metadata": {},
   "outputs": [
    {
     "name": "stdout",
     "output_type": "stream",
     "text": [
      "dz, num_heads, d, num_layers_encoder, num_layers_decoder, drop, bs :  32 8 128 4 4 0.0 25\n",
      "num_warmup : 80\n"
     ]
    }
   ],
   "source": [
    "# Global constants\n",
    "dz = 32 # number of dimensions for the compressed representation\n",
    "num_heads = 8 # number of heads in the transformer layer\n",
    "d = 16 * num_heads # number of hidden dimensions\n",
    "num_layers_encoder = 4 # number of transformer encoder layers\n",
    "num_layers_decoder = 4 # number of transformer decoder layers\n",
    "drop = 0.0 # dropout value\n",
    "bs = 25 # batch size\n",
    "\n",
    "print('dz, num_heads, d, num_layers_encoder, num_layers_decoder, drop, bs : ', \\\n",
    "      dz, num_heads, d, num_layers_encoder, num_layers_decoder, drop, bs)\n",
    "\n",
    "# Warmup \n",
    "num_mol_size = 20\n",
    "num_warmup = 2 * max( num_mol_size, len(train) // bs ) # 4 epochs * max( num_mol_size=20, num_mol/batch_size)\n",
    "print('num_warmup :',num_warmup)\n"
   ]
  },
  {
   "cell_type": "markdown",
   "metadata": {},
   "source": [
    "# Question 1 : Code the Graph Transformer with edge features\n",
    "\n",
    "Hints: \n",
    "- The attention calculation involves edge features in an element-wise way, i.e., $q_i \\odot e_{ij} \\odot k_j$.\n",
    "- The update formula on edge feature is similar to the update on node feature.\n",
    "  "
   ]
  },
  {
   "cell_type": "code",
   "execution_count": 8,
   "metadata": {},
   "outputs": [],
   "source": [
    "# Define VAE architecture with Transformers\n",
    "class head_attention(nn.Module):\n",
    "    def __init__(self, d, d_head):\n",
    "        super().__init__()\n",
    "        self.Q = nn.Linear(d, d_head)\n",
    "        self.K = nn.Linear(d, d_head)\n",
    "        self.E = nn.Linear(d, d_head)\n",
    "        self.V = nn.Linear(d, d_head)\n",
    "        self.sqrt_d = torch.sqrt(torch.tensor(d_head))\n",
    "        self.drop_att = nn.Dropout(drop)\n",
    "        self.Ni = nn.Linear(d, d_head)\n",
    "        self.Nj = nn.Linear(d, d_head)\n",
    "    def forward(self, x, e):\n",
    "        ###############################################\n",
    "        # YOUR CODE STARTS\n",
    "        ###############################################\n",
    "        Q = self.Q(x) # [bs, n, d_head]\n",
    "        K = self.K(x) # [bs, n, d_head]\n",
    "        V = self.V(x) # [bs, n, d_head]\n",
    "        Q = Q.unsqueeze(2) # [bs, n, 1, d_head]\n",
    "        K = K.unsqueeze(1) # [bs, 1, n, d_head]\n",
    "        E = self.E(e) # [bs, n, n, d_head]\n",
    "        Ni = self.Ni(x).unsqueeze(2) # [bs, n, 1, d_head]\n",
    "        Nj = self.Nj(x).unsqueeze(1) # [bs, 1, n, d_head]\n",
    "        e = Ni + Nj + E              # [bs, n, n, d_head]\n",
    "        Att = (Q * e * K).sum(dim=3) / self.sqrt_d # [bs, n, n]\n",
    "        Att = torch.softmax(Att, dim=1)            # [bs, n, n]\n",
    "        Att = self.drop_att(Att)                   # [bs, n, n]\n",
    "        x = Att @ V                  # [bs, n, d_head]\n",
    "        ###############################################\n",
    "        # YOUR CODE ENDS\n",
    "        ###############################################\n",
    "        return x, e                  # [bs, n, d_head], [bs, n, n, d_head]\n",
    "\n",
    "class MHA(nn.Module):\n",
    "    def __init__(self, d, num_heads):  \n",
    "        super().__init__()\n",
    "        d_head = d // num_heads\n",
    "        self.heads = nn.ModuleList( [head_attention(d, d_head) for _ in range(num_heads)] )\n",
    "        self.WOx = nn.Linear(d, d)\n",
    "        self.WOe = nn.Linear(d, d)\n",
    "        self.drop_x = nn.Dropout(drop)\n",
    "        self.drop_e = nn.Dropout(drop)\n",
    "    def forward(self, x, e):\n",
    "        ###############################################\n",
    "        # YOUR CODE STARTS\n",
    "        ###############################################\n",
    "        x_MHA = []\n",
    "        e_MHA = []    \n",
    "        for head in self.heads:\n",
    "            x_HA, e_HA = head(x,e)            # [bs, n, d_head], [bs, n, n, d_head]\n",
    "            x_MHA.append(x_HA)\n",
    "            e_MHA.append(e_HA)\n",
    "        x = self.WOx(torch.cat(x_MHA, dim=2)) # [bs, n, d]\n",
    "        x = self.drop_x(x)                    # [bs, n, d]\n",
    "        e = self.WOe(torch.cat(e_MHA, dim=3)) # [bs, n, n, d]\n",
    "        e = self.drop_e(e)                    # [bs, n, n, d]\n",
    "        ###############################################\n",
    "        # YOUR CODE ENDS\n",
    "        ###############################################\n",
    "        return x, e                           # [bs, n, d], [bs, n, n, d]\n",
    "\n",
    "class BlockGT(nn.Module):\n",
    "    def __init__(self, d, num_heads):  \n",
    "        super().__init__()\n",
    "        self.LNx = nn.LayerNorm(d)\n",
    "        self.LNe = nn.LayerNorm(d)\n",
    "        self.LNx2 = nn.LayerNorm(d)\n",
    "        self.LNe2 = nn.LayerNorm(d)\n",
    "        self.MHA = MHA(d, num_heads)\n",
    "        self.MLPx = nn.Sequential(nn.Linear(d, 4*d), nn.ReLU(), nn.Linear(4*d, d))\n",
    "        self.MLPe = nn.Sequential(nn.Linear(d, 4*d), nn.ReLU(), nn.Linear(4*d, d))\n",
    "        self.drop_x_mlp = nn.Dropout(drop)\n",
    "        self.drop_e_mlp = nn.Dropout(drop)\n",
    "    def forward(self, x, e):\n",
    "        ###############################################\n",
    "        # YOUR CODE STARTS\n",
    "        ###############################################\n",
    "        x = self.LNx(x)                 # [bs, n, d]\n",
    "        e = self.LNe(e)                 # [bs, n, n, d]\n",
    "        x_MHA, e_MHA = self.MHA(x, e)   # [bs, n, d], [bs, n, n, d]\n",
    "        x = x + x_MHA                   # [bs, n, d]\n",
    "        x = x + self.MLPx(self.LNx2(x)) # [bs, n, d]\n",
    "        x = self.drop_x_mlp(x)          # [bs, n, d]\n",
    "        e = e + e_MHA                   # [bs, n, n, d]\n",
    "        e = e + self.MLPe(self.LNe2(e)) # [bs, n, n, d]\n",
    "        e = self.drop_e_mlp(e)          # [bs, n, n, d]\n",
    "        ###############################################\n",
    "        # YOUR CODE ENDS\n",
    "        ###############################################\n",
    "        return x, e                     # [bs, n, d], [bs, n, n, d]\n",
    "\n",
    "def sym_tensor(x):\n",
    "    x = x.permute(0,3,1,2) # [bs, d, n, n]\n",
    "    triu = torch.triu(x,diagonal=1).transpose(3,2) # [bs, d, n, n]\n",
    "    mask = (triu.abs()>0).float()                  # [bs, d, n, n]\n",
    "    x =  x * (1 - mask ) + mask * triu             # [bs, d, n, n]\n",
    "    x = x.permute(0,2,3,1) # [bs, n, n, d]\n",
    "    return x               # [bs, n, n, d]"
   ]
  },
  {
   "cell_type": "markdown",
   "metadata": {},
   "source": [
    "# Question 2: Implement the VAE architecture for molecule data\n",
    "\n",
    "Hints:\n",
    "- Guarantee the matrix symmetry, i.e. $E=E^T$, whenever dealing with edge-based matrices.\n",
    "- The vector `mol_token` represents the whole molecule. It is computed by averaging the node embeddings after the encoding process. Edge embeddings solely participate in the graph Transformer calculation.\n",
    "  "
   ]
  },
  {
   "cell_type": "code",
   "execution_count": 9,
   "metadata": {},
   "outputs": [],
   "source": [
    "class VAE(nn.Module): \n",
    "    def __init__(self):\n",
    "        super().__init__()\n",
    "        self.pe_x = nn.Embedding(max_mol_sz, d)\n",
    "        self.atom_emb = nn.Embedding(num_atom_type, d)\n",
    "        self.bond_emb = nn.Embedding(num_bond_type, d)\n",
    "        self.gt_enc_layers = nn.ModuleList( [BlockGT(d, num_heads) for _ in range(num_layers_encoder)] )\n",
    "        self.gt_dec_layers = nn.ModuleList( [BlockGT(d, num_heads) for _ in range(num_layers_decoder)] )\n",
    "        self.linear_q_mu     = nn.Linear(d, dz)\n",
    "        self.linear_q_logvar = nn.Linear(d, dz)\n",
    "        self.linear_p = nn.Linear(dz, d)\n",
    "        self.ln_x_final = nn.LayerNorm(d)  \n",
    "        self.linear_x_final = nn.Linear(d, num_atom_type)\n",
    "        self.ln_e_final = nn.LayerNorm(d)  \n",
    "        self.linear_e_final = nn.Linear(d, num_bond_type)\n",
    "        self.drop_x_emb = nn.Dropout(drop)\n",
    "        self.drop_e_emb = nn.Dropout(drop)\n",
    "        self.drop_p_emb = nn.Dropout(drop)\n",
    "    def forward(self, x, e, train=True, num_gen=1, num_atom=9):\n",
    "        \n",
    "        # encoder\n",
    "        if train: # training phase\n",
    "            # input layer\n",
    "            x = self.atom_emb(x)                   # [bs, n, d]\n",
    "            bs2 = x.size(0); n = x.size(1)\n",
    "            pe_x = torch.arange(0,n).to(device).repeat(bs2,1) # [bs, n] \n",
    "            pe_x = self.pe_x(pe_x)                            # [bs, n, d] \n",
    "            e = self.bond_emb(e)                   # [bs, n, n, d]\n",
    "            e = sym_tensor(e)                      # [bs, n, n, d]\n",
    "            x = self.drop_x_emb(x)                 # [bs, n, d]\n",
    "            e = self.drop_e_emb(e)                 # [bs, n, n, d]        \n",
    "            # GT layers   \n",
    "            ###############################################\n",
    "            # Get the distribution, including mean and logvar vectors\n",
    "            # Sample `z` from the distribution via re-parameterization\n",
    "            # YOUR CODE STARTS\n",
    "            ###############################################\n",
    "            # VAE Gaussian\n",
    "            for layer in self.gt_enc_layers:\n",
    "                x, e = layer(x, e)\n",
    "                e = sym_tensor(e)\n",
    "            mol_token = x.mean(1)\n",
    "            q_mu = self.linear_q_mu(mol_token) # [bs, dz]\n",
    "            q_logvar = self.linear_q_logvar(mol_token) # [bs, dz]\n",
    "            q_std = torch.exp(0.5 * q_logvar)\n",
    "            eps = torch.randn_like(q_std) \n",
    "            z = q_mu + eps * q_std # [bs, dz]\n",
    "            ###############################################\n",
    "            # YOUR CODE ENDS\n",
    "            ###############################################\n",
    "            bs_dec = bs; n = x.size(1) \n",
    "        else: # generation phase\n",
    "            bs_dec = num_gen; n = num_atom\n",
    "            pe_x = torch.arange(0,n).to(device).repeat(bs_dec,1) # [bs, n] \n",
    "            pe_x = self.pe_x(pe_x)                               # [bs, n, d] \n",
    "            z = torch.Tensor(bs_dec, dz).normal_(mean=0.0, std=1.0).to(device) # [b, dz]\n",
    "            q_mu, q_logvar = _, _\n",
    "            \n",
    "        # decoder\n",
    "        # input layer\n",
    "        z = self.linear_p(z)             # [bs, d]  \n",
    "        x = z.unsqueeze(1).repeat(1,n,1) # [bs, 1, d] => [bs, n, d]\n",
    "        x = x + pe_x                     # [bs, n, d]\n",
    "        e = z.unsqueeze(1).unsqueeze(2).repeat(1,n,n,1) # [bs, 1, 1, d] => [bs, n, n, d] \n",
    "        e = sym_tensor(e)                # [bs, n, n, d] \n",
    "        e = e + pe_x.unsqueeze(1) + pe_x.unsqueeze(2)       # [bs, n, n, d] \n",
    "        e = sym_tensor(e)                # [bs, n, n, d] \n",
    "        ###############################################\n",
    "        # Code decoding process\n",
    "        # YOUR CODE STARTS\n",
    "        ###############################################\n",
    "        # GT layers\n",
    "        \n",
    "        ###############################################\n",
    "        # YOUR CODE ENDS\n",
    "        ###############################################\n",
    "        # output\n",
    "        x = self.ln_x_final(x)     # [bs, n, d]\n",
    "        x = self.linear_x_final(x) # [bs, n, num_atom_type]\n",
    "        e = self.ln_e_final(e)     # [bs, n, n, d] \n",
    "        e = self.linear_e_final(e) # [bs, n, n, num_bond_type] \n",
    "\n",
    "        return x, e, q_mu, q_logvar"
   ]
  },
  {
   "cell_type": "markdown",
   "metadata": {},
   "source": [
    "# Question 3: Implement the training loss of VAE\n",
    "\n",
    "Hints: \n",
    "- Since both atom and bond use discrete features representing their classes, the fidelity loss is cross entropy loss. Use [torch.nn.CrossEntropyLoss()](https://pytorch.org/docs/stable/generated/torch.nn.CrossEntropyLoss.html#torch.nn.CrossEntropyLoss).\n",
    "  "
   ]
  },
  {
   "cell_type": "code",
   "execution_count": 10,
   "metadata": {},
   "outputs": [
    {
     "name": "stdout",
     "output_type": "stream",
     "text": [
      "Firt run\n",
      "Number of parameters: 3189837 (3.19 million)\n",
      "sampler.num_mol : {9: 831, 8: 136, 7: 24, 6: 7, 5: 1, 4: 1}\n",
      "num_batches_remaining : {9: 17, 8: 3, 7: 1, 6: 1, 5: 1, 4: 1}\n",
      "sz : 4\n",
      "minibatch_node : torch.Size([1, 4])\n",
      "minibatch_edge : torch.Size([1, 4, 4])\n",
      "batch_x_pred torch.Size([1, 4, 9])\n",
      "batch_e_pred torch.Size([1, 4, 4, 4])\n",
      "batch_x_gen torch.Size([4, 9, 9])\n",
      "batch_e_gen torch.Size([4, 9, 9, 4])\n"
     ]
    }
   ],
   "source": [
    "try:\n",
    "    del net\n",
    "    torch.cuda.empty_cache()\n",
    "except:\n",
    "  print(\"Firt run\")\n",
    "\n",
    "# Instantiate the network\n",
    "net = VAE()\n",
    "net = net.to(device)\n",
    "def display_num_param(net):\n",
    "    nb_param = 0\n",
    "    for param in net.parameters():\n",
    "        nb_param += param.numel()\n",
    "    print('Number of parameters: {} ({:.2f} million)'.format(nb_param, nb_param/1e6))\n",
    "    return nb_param/1e6\n",
    "_ = display_num_param(net)\n",
    "\n",
    "# Test the forward pass, backward pass and gradient update with a single batch\n",
    "init_lr = 0.001\n",
    "optimizer = torch.optim.Adam(net.parameters(), lr=init_lr)\n",
    "scheduler = optim.lr_scheduler.ReduceLROnPlateau(optimizer, mode='min', factor=0.95, patience=1, verbose=True)\n",
    "\n",
    "bs = 50\n",
    "sampler = MoleculeSampler(train_group, bs)\n",
    "print('sampler.num_mol :',sampler.num_mol)\n",
    "num_batches_remaining = sampler.compute_num_batches_remaining()\n",
    "print('num_batches_remaining :',num_batches_remaining)\n",
    "sz = sampler.choose_molecule_size()\n",
    "print('sz :',sz)\n",
    "indices = sampler.draw_batch_of_molecules(sz) \n",
    "#print('indices :',len(indices),indices)\n",
    "batch_x0 = minibatch_node = torch.stack( [ train_group[sz][i].atom_type for i in indices] ).long().to(device) # [bs, n]\n",
    "print('minibatch_node :',minibatch_node.size())\n",
    "batch_e0 = minibatch_edge = torch.stack( [ train_group[sz][i].bond_type for i in indices] ).long().to(device) # [bs, n, n]\n",
    "print('minibatch_edge :',minibatch_edge.size())\n",
    "\n",
    "batch_x_pred, batch_e_pred, q_mu, q_logvar = net(batch_x0, batch_e0) # [bs, n], [bs, n, n]\n",
    "print('batch_x_pred',batch_x_pred.size())\n",
    "print('batch_e_pred',batch_e_pred.size())\n",
    "\n",
    "bs2 = batch_x_pred.size(0)\n",
    "###############################################\n",
    "# YOUR CODE STARTS\n",
    "###############################################\n",
    "loss_data = torch.nn.CrossEntropyLoss()(batch_x_pred.view(bs2*sz,num_atom_type), batch_x0.view(bs2*sz))\n",
    "loss_data = loss_data + torch.nn.CrossEntropyLoss()(batch_e_pred.view(bs2*sz*sz,num_bond_type), batch_e0.view(bs2*sz*sz))\n",
    "###############################################\n",
    "# YOUR CODE ENDS\n",
    "###############################################\n",
    "loss_KL = -0.5* torch.mean( 1.0 + q_logvar - q_mu.pow(2.0) - q_logvar.exp() )\n",
    "loss_VAE = 1* loss_data + loss_KL\n",
    "loss = loss_VAE\n",
    "optimizer.zero_grad()\n",
    "loss.backward()\n",
    "torch.nn.utils.clip_grad_norm_(net.parameters(), 0.25) # grad_norm_clip=1.0\n",
    "optimizer.step()\n",
    "\n",
    "# generate new data\n",
    "with torch.no_grad():\n",
    "    num_data = 4; num_atom = 9\n",
    "    batch_x_gen, batch_e_gen, _, _  = net(0, 0, False, num_data, num_atom) # [num_data, n]\n",
    "    print('batch_x_gen',batch_x_gen.size())\n",
    "    print('batch_e_gen',batch_e_gen.size()) \n"
   ]
  },
  {
   "cell_type": "code",
   "execution_count": 11,
   "metadata": {
    "scrolled": true
   },
   "outputs": [
    {
     "name": "stdout",
     "output_type": "stream",
     "text": [
      "Number of parameters: 3189837 (3.19 million)\n",
      "dz, num_heads, d, num_layers_encoder, num_layers_decoder, drop, bs :  32 8 128 4 4 0.0 50\n",
      "num_warmup, nb_epochs : 80 1000\n",
      "epoch= 0 \t time= 0.0554 min \t lr= 0.0000937 \t loss= 8.3657\n",
      "epoch= 5 \t time= 0.2497 min \t lr= 0.0003000 \t loss= 3.7929\n",
      "epoch= 10 \t time= 0.4372 min \t lr= 0.0003000 \t loss= 3.5709\n",
      "epoch= 15 \t time= 0.6165 min \t lr= 0.0003000 \t loss= 3.5249\n",
      "epoch= 20 \t time= 0.8309 min \t lr= 0.0003000 \t loss= 3.4525\n",
      "epoch= 25 \t time= 1.0187 min \t lr= 0.0003000 \t loss= 3.4136\n",
      "epoch= 30 \t time= 1.2241 min \t lr= 0.0003000 \t loss= 3.4078\n",
      "epoch= 35 \t time= 1.4324 min \t lr= 0.0003000 \t loss= 3.3878\n",
      "epoch= 40 \t time= 1.6266 min \t lr= 0.0003000 \t loss= 3.3569\n",
      "epoch= 45 \t time= 1.8485 min \t lr= 0.0003000 \t loss= 3.3528\n",
      "epoch= 50 \t time= 2.0515 min \t lr= 0.0003000 \t loss= 3.3303\n",
      "epoch= 55 \t time= 2.2746 min \t lr= 0.0003000 \t loss= 3.3131\n",
      "epoch= 60 \t time= 2.4748 min \t lr= 0.0003000 \t loss= 3.3112\n",
      "epoch= 65 \t time= 2.6903 min \t lr= 0.0003000 \t loss= 3.2884\n",
      "epoch= 70 \t time= 2.8790 min \t lr= 0.0003000 \t loss= 3.2906\n",
      "epoch= 75 \t time= 3.1006 min \t lr= 0.0003000 \t loss= 3.2924\n",
      "epoch= 80 \t time= 3.3054 min \t lr= 0.0003000 \t loss= 3.2821\n",
      "epoch= 85 \t time= 3.5281 min \t lr= 0.0003000 \t loss= 3.2547\n",
      "epoch= 90 \t time= 3.7551 min \t lr= 0.0003000 \t loss= 3.2520\n",
      "epoch= 95 \t time= 3.9558 min \t lr= 0.0003000 \t loss= 3.2340\n",
      "epoch= 100 \t time= 4.1874 min \t lr= 0.0003000 \t loss= 3.2144\n",
      "epoch= 105 \t time= 4.3775 min \t lr= 0.0003000 \t loss= 3.1944\n",
      "epoch= 110 \t time= 4.6144 min \t lr= 0.0003000 \t loss= 3.1630\n",
      "epoch= 115 \t time= 4.8135 min \t lr= 0.0003000 \t loss= 3.1345\n",
      "epoch= 120 \t time= 5.0260 min \t lr= 0.0003000 \t loss= 3.0943\n",
      "epoch= 125 \t time= 5.2520 min \t lr= 0.0003000 \t loss= 3.0416\n",
      "epoch= 130 \t time= 5.4637 min \t lr= 0.0003000 \t loss= 2.9854\n",
      "epoch= 135 \t time= 5.6916 min \t lr= 0.0003000 \t loss= 2.9139\n",
      "epoch= 140 \t time= 5.9177 min \t lr= 0.0003000 \t loss= 2.8373\n",
      "epoch= 145 \t time= 6.1399 min \t lr= 0.0003000 \t loss= 2.7790\n",
      "epoch= 150 \t time= 6.3434 min \t lr= 0.0003000 \t loss= 2.7226\n",
      "epoch= 155 \t time= 6.5542 min \t lr= 0.0003000 \t loss= 2.7022\n",
      "epoch= 160 \t time= 6.7911 min \t lr= 0.0003000 \t loss= 2.6535\n",
      "epoch= 165 \t time= 6.9992 min \t lr= 0.0003000 \t loss= 2.6359\n",
      "epoch= 170 \t time= 7.2421 min \t lr= 0.0003000 \t loss= 2.6159\n",
      "epoch= 175 \t time= 7.4587 min \t lr= 0.0003000 \t loss= 2.6096\n",
      "epoch= 180 \t time= 7.6868 min \t lr= 0.0003000 \t loss= 2.5984\n",
      "epoch= 185 \t time= 7.9037 min \t lr= 0.0003000 \t loss= 2.5910\n",
      "epoch= 190 \t time= 8.1191 min \t lr= 0.0003000 \t loss= 2.5781\n",
      "epoch= 195 \t time= 8.3269 min \t lr= 0.0003000 \t loss= 2.5687\n",
      "epoch= 200 \t time= 8.5391 min \t lr= 0.0003000 \t loss= 2.5677\n"
     ]
    },
    {
     "ename": "KeyboardInterrupt",
     "evalue": "",
     "output_type": "error",
     "traceback": [
      "\u001b[0;31m---------------------------------------------------------------------------\u001b[0m",
      "\u001b[0;31mKeyboardInterrupt\u001b[0m                         Traceback (most recent call last)",
      "\u001b[0;32m/tmp/ipykernel_61238/2823384914.py\u001b[0m in \u001b[0;36m<module>\u001b[0;34m\u001b[0m\n\u001b[1;32m     44\u001b[0m \u001b[0;34m\u001b[0m\u001b[0m\n\u001b[1;32m     45\u001b[0m         \u001b[0moptimizer\u001b[0m\u001b[0;34m.\u001b[0m\u001b[0mzero_grad\u001b[0m\u001b[0;34m(\u001b[0m\u001b[0;34m)\u001b[0m\u001b[0;34m\u001b[0m\u001b[0;34m\u001b[0m\u001b[0m\n\u001b[0;32m---> 46\u001b[0;31m         \u001b[0mloss\u001b[0m\u001b[0;34m.\u001b[0m\u001b[0mbackward\u001b[0m\u001b[0;34m(\u001b[0m\u001b[0;34m)\u001b[0m\u001b[0;34m\u001b[0m\u001b[0;34m\u001b[0m\u001b[0m\n\u001b[0m\u001b[1;32m     47\u001b[0m         \u001b[0mtorch\u001b[0m\u001b[0;34m.\u001b[0m\u001b[0mnn\u001b[0m\u001b[0;34m.\u001b[0m\u001b[0mutils\u001b[0m\u001b[0;34m.\u001b[0m\u001b[0mclip_grad_norm_\u001b[0m\u001b[0;34m(\u001b[0m\u001b[0mnet\u001b[0m\u001b[0;34m.\u001b[0m\u001b[0mparameters\u001b[0m\u001b[0;34m(\u001b[0m\u001b[0;34m)\u001b[0m\u001b[0;34m,\u001b[0m \u001b[0;36m0.25\u001b[0m\u001b[0;34m)\u001b[0m \u001b[0;31m# grad_norm_clip=1.0\u001b[0m\u001b[0;34m\u001b[0m\u001b[0;34m\u001b[0m\u001b[0m\n\u001b[1;32m     48\u001b[0m         \u001b[0moptimizer\u001b[0m\u001b[0;34m.\u001b[0m\u001b[0mstep\u001b[0m\u001b[0;34m(\u001b[0m\u001b[0;34m)\u001b[0m\u001b[0;34m\u001b[0m\u001b[0;34m\u001b[0m\u001b[0m\n",
      "\u001b[0;32m/usr/local/lib/python3.10/dist-packages/torch/_tensor.py\u001b[0m in \u001b[0;36mbackward\u001b[0;34m(self, gradient, retain_graph, create_graph, inputs)\u001b[0m\n\u001b[1;32m    485\u001b[0m                 \u001b[0minputs\u001b[0m\u001b[0;34m=\u001b[0m\u001b[0minputs\u001b[0m\u001b[0;34m,\u001b[0m\u001b[0;34m\u001b[0m\u001b[0;34m\u001b[0m\u001b[0m\n\u001b[1;32m    486\u001b[0m             )\n\u001b[0;32m--> 487\u001b[0;31m         torch.autograd.backward(\n\u001b[0m\u001b[1;32m    488\u001b[0m             \u001b[0mself\u001b[0m\u001b[0;34m,\u001b[0m \u001b[0mgradient\u001b[0m\u001b[0;34m,\u001b[0m \u001b[0mretain_graph\u001b[0m\u001b[0;34m,\u001b[0m \u001b[0mcreate_graph\u001b[0m\u001b[0;34m,\u001b[0m \u001b[0minputs\u001b[0m\u001b[0;34m=\u001b[0m\u001b[0minputs\u001b[0m\u001b[0;34m\u001b[0m\u001b[0;34m\u001b[0m\u001b[0m\n\u001b[1;32m    489\u001b[0m         )\n",
      "\u001b[0;32m/usr/local/lib/python3.10/dist-packages/torch/autograd/__init__.py\u001b[0m in \u001b[0;36mbackward\u001b[0;34m(tensors, grad_tensors, retain_graph, create_graph, grad_variables, inputs)\u001b[0m\n\u001b[1;32m    198\u001b[0m     \u001b[0;31m# some Python versions print out the first line of a multi-line function\u001b[0m\u001b[0;34m\u001b[0m\u001b[0;34m\u001b[0m\u001b[0m\n\u001b[1;32m    199\u001b[0m     \u001b[0;31m# calls in the traceback and some print out the last line\u001b[0m\u001b[0;34m\u001b[0m\u001b[0;34m\u001b[0m\u001b[0m\n\u001b[0;32m--> 200\u001b[0;31m     Variable._execution_engine.run_backward(  # Calls into the C++ engine to run the backward pass\n\u001b[0m\u001b[1;32m    201\u001b[0m         \u001b[0mtensors\u001b[0m\u001b[0;34m,\u001b[0m \u001b[0mgrad_tensors_\u001b[0m\u001b[0;34m,\u001b[0m \u001b[0mretain_graph\u001b[0m\u001b[0;34m,\u001b[0m \u001b[0mcreate_graph\u001b[0m\u001b[0;34m,\u001b[0m \u001b[0minputs\u001b[0m\u001b[0;34m,\u001b[0m\u001b[0;34m\u001b[0m\u001b[0;34m\u001b[0m\u001b[0m\n\u001b[1;32m    202\u001b[0m         allow_unreachable=True, accumulate_grad=True)  # Calls into the C++ engine to run the backward pass\n",
      "\u001b[0;31mKeyboardInterrupt\u001b[0m: "
     ]
    }
   ],
   "source": [
    "# Training loop\n",
    "del net\n",
    "net = VAE()\n",
    "net = net.to(device)\n",
    "_ = display_num_param(net)\n",
    "\n",
    "# Optimizer\n",
    "init_lr = 0.0003\n",
    "optimizer = torch.optim.Adam(net.parameters(), lr=init_lr)\n",
    "scheduler_warmup = torch.optim.lr_scheduler.LambdaLR(optimizer, lr_lambda=lambda t: min((t+1)/num_warmup, 1.0) ) # warmup scheduler\n",
    "scheduler_tracker = optim.lr_scheduler.ReduceLROnPlateau(optimizer, mode='min', factor=0.95, patience=5, verbose=True) # tracker scheduler\n",
    "\n",
    "# Number of mini-batches per epoch\n",
    "nb_epochs = 1000\n",
    "num_warmup_batch = 0\n",
    "print('dz, num_heads, d, num_layers_encoder, num_layers_decoder, drop, bs : ', dz, num_heads, d, num_layers_encoder, num_layers_decoder, drop, bs)\n",
    "print('num_warmup, nb_epochs :',num_warmup, nb_epochs)\n",
    "\n",
    "# Run training epochs\n",
    "start = time.time()\n",
    "for epoch in range(nb_epochs):\n",
    "\n",
    "    running_loss = 0.0\n",
    "    num_batches = 0\n",
    "    \n",
    "    net.train()\n",
    "\n",
    "    bs = 50\n",
    "    sampler = MoleculeSampler(train_group, bs)\n",
    "    while(not sampler.is_empty()):\n",
    "\n",
    "        num_batches_remaining = sampler.compute_num_batches_remaining()\n",
    "        sz = sampler.choose_molecule_size()\n",
    "        indices = sampler.draw_batch_of_molecules(sz) \n",
    "        batch_x0 = torch.stack( [ train_group[sz][i].atom_type for i in indices] ).long().to(device) # [bs, n]\n",
    "        batch_e0 = torch.stack( [ train_group[sz][i].bond_type for i in indices] ).long().to(device) # [bs, n, n]\n",
    "        batch_x_pred, batch_e_pred, q_mu, q_logvar = net(batch_x0, batch_e0) # [bs, n], [bs, n, n]\n",
    "        bs2 = batch_x_pred.size(0)\n",
    "        loss_data = torch.nn.CrossEntropyLoss()(batch_x_pred.view(bs2*sz,num_atom_type), batch_x0.view(bs2*sz))\n",
    "        loss_data = loss_data + torch.nn.CrossEntropyLoss()(batch_e_pred.view(bs2*sz*sz,num_bond_type), batch_e0.view(bs2*sz*sz))\n",
    "        loss_KL = -0.5* torch.mean( 1.0 + q_logvar - q_mu.pow(2.0) - q_logvar.exp() )\n",
    "        loss_VAE = 2.5 * loss_data + loss_KL\n",
    "        loss = loss_VAE\n",
    "\n",
    "        optimizer.zero_grad()\n",
    "        loss.backward()\n",
    "        torch.nn.utils.clip_grad_norm_(net.parameters(), 0.25) # grad_norm_clip=1.0\n",
    "        optimizer.step()\n",
    "\n",
    "        # Warmup scheduler for transformer layers\n",
    "        if num_warmup_batch < num_warmup:\n",
    "            scheduler_warmup.step() \n",
    "        num_warmup_batch += 1\n",
    "\n",
    "        # Compute stats\n",
    "        running_loss += loss.detach().item()\n",
    "        num_batches += 1\n",
    "\n",
    "    # Average stats\n",
    "    mean_loss = running_loss/num_batches\n",
    "    if num_warmup_batch >= num_warmup:\n",
    "        scheduler_tracker.step(mean_loss) # tracker scheduler defined w.r.t. loss value\n",
    "        num_warmup_batch += 1\n",
    "    elapsed = (time.time()-start)/60\n",
    "    if not epoch%5:\n",
    "        print('epoch= %d \\t time= %.4f min \\t lr= %.7f \\t loss= %.4f' % (epoch, elapsed, optimizer.param_groups[0]['lr'],mean_loss) )\n",
    "        \n",
    "    # Intermediate result   \n",
    "    # TODO\n",
    "    \n",
    "    # Check lr value  \n",
    "    if optimizer.param_groups[0]['lr'] < 10**-5:\n",
    "      print(\"\\n lr is equal to min lr -- training stopped\\n\")\n",
    "      break\n",
    "\n",
    "    "
   ]
  },
  {
   "cell_type": "markdown",
   "metadata": {},
   "source": []
  },
  {
   "cell_type": "markdown",
   "metadata": {
    "executionInfo": {
     "elapsed": 3,
     "status": "ok",
     "timestamp": 1725286164313,
     "user": {
      "displayName": "Xavier Bresson",
      "userId": "14103767471123103792"
     },
     "user_tz": -480
    },
    "id": "f84qL8usI38w"
   },
   "source": [
    "## Compute percentage of valid molecules"
   ]
  },
  {
   "cell_type": "code",
   "execution_count": 12,
   "metadata": {},
   "outputs": [
    {
     "name": "stdout",
     "output_type": "stream",
     "text": [
      "percentage of valid molecules\n",
      "\t num_gen_mol= 1000   time(min)= 0.004   perc valid molecules= 98.9\n",
      "['NCCCNNNNN', 'CCCCCCCCC', 'CCCCCCCCC', 'CCCCCCCCC', 'CCCCCCCCC', 'CCCCCCCCC', 'CCCCCCCCC', 'CCCCCCCCC', 'CCCCCCCCO', 'CCCCCCCCO']\n"
     ]
    }
   ],
   "source": [
    "# compute percentage of valid molecules\n",
    "def compute_perc_valid_molecules(net, sampler_size, num_gen_mol=1000, num_generated_mols_per_batch=100):\n",
    "    num_atom = 9 # QM9\n",
    "    num_batches = num_gen_mol // num_generated_mols_per_batch \n",
    "    num_valid_mol = 0\n",
    "    list_valid_mol = []\n",
    "    list_mol = []\n",
    "    start = time.time()\n",
    "    for idx in range(num_batches):\n",
    "        net.eval()\n",
    "        with torch.no_grad():  \n",
    "            num_atom_sampled = sampler_size.choose_molecule_size() # sample the molecule size\n",
    "            num_atom_sampled = num_atom # same size\n",
    "            batch_x_0, batch_e_0, _, _  = net(0, 0, False, num_generated_mols_per_batch, num_atom_sampled) # [bs, n, num_atom_type], [bs, n, n, num_bond_type]\n",
    "            batch_x_0 = torch.max(batch_x_0,dim=2)[1]  # [bs, n] \n",
    "            batch_e_0 = torch.max(batch_e_0,dim=3)[1]  # [bs, n, n]\n",
    "            x_hat = batch_x_0.detach().to('cpu')\n",
    "            e_hat = batch_e_0.detach().to('cpu')\n",
    "            for x,e in zip(x_hat,e_hat):\n",
    "                pymol = Molecule(num_atom_sampled, num_atom_type)\n",
    "                pymol.atom_type = x\n",
    "                pymol.bond_type = e\n",
    "                smile = from_pymol_to_smile(pymol, atom_dict, bond_dict)\n",
    "                list_mol.append(smile)\n",
    "                mol = Chem.MolFromSmiles(smile)\n",
    "                if mol is not None:\n",
    "                    list_valid_mol.append(smile)\n",
    "                    num_valid_mol += 1\n",
    "    perc_valid_molecules = 100*num_valid_mol/num_gen_mol\n",
    "    line = '\\t num_gen_mol= ' + str(num_gen_mol) + '   time(min)= ' + str((time.time()-start)/60)[:5] + '   perc valid molecules= ' + str(perc_valid_molecules)[:6]\n",
    "    return perc_valid_molecules, list_mol, line, list_valid_mol\n",
    "\n",
    "perc_valid_mol, list_mol, line, list_valid_mol = compute_perc_valid_molecules(net, sampler_size)\n",
    "print('percentage of valid molecules')\n",
    "print(line)\n",
    "print(list_valid_mol[:10])\n",
    "\n",
    " "
   ]
  },
  {
   "cell_type": "markdown",
   "metadata": {},
   "source": []
  },
  {
   "cell_type": "markdown",
   "metadata": {},
   "source": [
    "## Plot a few molecules"
   ]
  },
  {
   "cell_type": "code",
   "execution_count": 13,
   "metadata": {},
   "outputs": [
    {
     "name": "stdout",
     "output_type": "stream",
     "text": [
      "tensor([488,  51, 479, 544, 553, 780,  83, 135, 239, 403, 496,  39, 219, 175,\n",
      "         93, 942])\n"
     ]
    },
    {
     "data": {
      "text/plain": [
       "<Figure size 1200x800 with 0 Axes>"
      ]
     },
     "metadata": {},
     "output_type": "display_data"
    },
    {
     "data": {
      "image/png": "[encoded data removed]",
      "text/plain": [
       "<Figure size 1152x1152 with 16 Axes>"
      ]
     },
     "metadata": {
      "needs_background": "light"
     },
     "output_type": "display_data"
    }
   ],
   "source": [
    "num_valid_mol = len(list_valid_mol)\n",
    "num_print_mol = 16\n",
    "list_idx = torch.randperm(num_valid_mol)[:num_print_mol] \n",
    "print(list_idx)\n",
    "\n",
    "from rdkit.Chem import Draw\n",
    "list_valid_mol_img = [ Draw.MolToImage(Chem.MolFromSmiles(list_valid_mol[idx]),size=(512, 512)) for idx in list_idx ]\n",
    "\n",
    "plt.figure(1, dpi=200)\n",
    "figure, axis = plt.subplots(4, 4)\n",
    "figure.set_size_inches(16,16)\n",
    "i,j,cpt=0,0,0; axis[i,j].imshow(list_valid_mol_img[cpt]); axis[i,j].set_title(\"Generated w/ VAE\"); axis[i,j].axis('off')\n",
    "i,j,cpt=1,0,1; axis[i,j].imshow(list_valid_mol_img[cpt]); axis[i,j].set_title(\"Generated w/ VAE\"); axis[i,j].axis('off')\n",
    "i,j,cpt=2,0,2; axis[i,j].imshow(list_valid_mol_img[cpt]); axis[i,j].set_title(\"Generated w/ VAE\"); axis[i,j].axis('off')\n",
    "i,j,cpt=3,0,3; axis[i,j].imshow(list_valid_mol_img[cpt]); axis[i,j].set_title(\"Generated w/ VAE\"); axis[i,j].axis('off')\n",
    "i,j,cpt=0,1+0,4; axis[i,j].imshow(list_valid_mol_img[cpt]); axis[i,j].set_title(\"Generated w/ VAE\"); axis[i,j].axis('off')\n",
    "i,j,cpt=1,1+0,5; axis[i,j].imshow(list_valid_mol_img[cpt]); axis[i,j].set_title(\"Generated w/ VAE\"); axis[i,j].axis('off')\n",
    "i,j,cpt=2,1+0,6; axis[i,j].imshow(list_valid_mol_img[cpt]); axis[i,j].set_title(\"Generated w/ VAE\"); axis[i,j].axis('off')\n",
    "i,j,cpt=3,1+0,7; axis[i,j].imshow(list_valid_mol_img[cpt]); axis[i,j].set_title(\"Generated w/ VAE\"); axis[i,j].axis('off')\n",
    "i,j,cpt=0,2+0,8; axis[i,j].imshow(list_valid_mol_img[cpt]); axis[i,j].set_title(\"Generated w/ VAE\"); axis[i,j].axis('off')\n",
    "i,j,cpt=1,2+0,9; axis[i,j].imshow(list_valid_mol_img[cpt]); axis[i,j].set_title(\"Generated w/ VAE\"); axis[i,j].axis('off')\n",
    "i,j,cpt=2,2+0,10; axis[i,j].imshow(list_valid_mol_img[cpt]); axis[i,j].set_title(\"Generated w/ VAE\"); axis[i,j].axis('off')\n",
    "i,j,cpt=3,2+0,11; axis[i,j].imshow(list_valid_mol_img[cpt]); axis[i,j].set_title(\"Generated w/ VAE\"); axis[i,j].axis('off')\n",
    "i,j,cpt=0,3+0,12; axis[i,j].imshow(list_valid_mol_img[cpt]); axis[i,j].set_title(\"Generated w/ VAE\"); axis[i,j].axis('off')\n",
    "i,j,cpt=1,3+0,13; axis[i,j].imshow(list_valid_mol_img[cpt]); axis[i,j].set_title(\"Generated w/ VAE\"); axis[i,j].axis('off')\n",
    "i,j,cpt=2,3+0,14; axis[i,j].imshow(list_valid_mol_img[cpt]); axis[i,j].set_title(\"Generated w/ VAE\"); axis[i,j].axis('off')\n",
    "i,j,cpt=3,3+0,15; axis[i,j].imshow(list_valid_mol_img[cpt]); axis[i,j].set_title(\"Generated w/ VAE\"); axis[i,j].axis('off')\n",
    "plt.show() \n"
   ]
  },
  {
   "cell_type": "markdown",
   "metadata": {},
   "source": []
  },
  {
   "cell_type": "markdown",
   "metadata": {},
   "source": [
    "## Percentage of unique molecules among the generated molecules"
   ]
  },
  {
   "cell_type": "code",
   "execution_count": 14,
   "metadata": {},
   "outputs": [
    {
     "name": "stdout",
     "output_type": "stream",
     "text": [
      "num_generated_mol 1000\n",
      "num_unique_mol, num_mol: 37 1000\n",
      "perc unique molecules among the generated molecules: 3.7\n"
     ]
    }
   ],
   "source": [
    "print('num_generated_mol',len(list_mol))\n",
    "num_unique_mol = 0\n",
    "for idx,mol in enumerate(list_mol):\n",
    "    list_tmp = list_mol.copy()\n",
    "    list_tmp.pop(idx)\n",
    "    if mol not in list_tmp:\n",
    "        num_unique_mol += 1\n",
    "print('num_unique_mol, num_mol:',num_unique_mol, len(list_mol))\n",
    "perc_unique_mol = 100*num_unique_mol/len(list_mol)\n",
    "print('perc unique molecules among the generated molecules:', str(perc_unique_mol)[:6])\n"
   ]
  },
  {
   "cell_type": "markdown",
   "metadata": {},
   "source": []
  },
  {
   "cell_type": "markdown",
   "metadata": {},
   "source": [
    "## Percentage of novel molecules (not present in the training set)"
   ]
  },
  {
   "cell_type": "code",
   "execution_count": 15,
   "metadata": {},
   "outputs": [
    {
     "name": "stdout",
     "output_type": "stream",
     "text": [
      "num_train_mol 1000\n",
      "['CC1C(O)C2C(O)CC12', 'N#CCC1=CC(N)=NO1', 'CC1CCC1NCC#N', 'OC1CNC2=C1C=CO2', 'O=CC12NC3C4C1N4C32', 'C1=CC2=C(C=NN2)NC1', 'C1CC23CCC2OCC13', 'C1OCC12NCC21CO1', 'NC1=NC=C(F)C=C1O', 'ON=C1C2CC3C1CC23']\n",
      "num_unique_mol, num_mol: 1000 1000\n",
      "perc of novelty: 100.0\n"
     ]
    }
   ],
   "source": [
    "list_train_mol = [] \n",
    "for idx in range(len(train)):\n",
    "    list_train_mol.append(train[idx].smile) \n",
    "print('num_train_mol',len(list_train_mol))\n",
    "print(list_train_mol[:10])\n",
    "num_unique_mol = 0\n",
    "for mol in list_mol:\n",
    "    if mol not in list_train_mol:\n",
    "        num_unique_mol += 1\n",
    "print('num_unique_mol, num_mol:',num_unique_mol, len(list_mol))\n",
    "perc_novel_mol = 100 * num_unique_mol / len(list_mol)\n",
    "print('perc of novelty:', str(perc_novel_mol)[:6])\n"
   ]
  },
  {
   "cell_type": "markdown",
   "metadata": {},
   "source": []
  },
  {
   "cell_type": "markdown",
   "metadata": {},
   "source": [
    "## Compare results"
   ]
  },
  {
   "cell_type": "markdown",
   "metadata": {},
   "source": [
    "| Generative technique    | Validity (%) | Uniqueness (%) | Novelty (%) |\n",
    "| -------- | ------- | ------- | ------- |\n",
    "| VAE   | 78.4    | 86.9    |  93.1    |\n"
   ]
  },
  {
   "cell_type": "code",
   "execution_count": null,
   "metadata": {},
   "outputs": [],
   "source": []
  },
  {
   "cell_type": "code",
   "execution_count": null,
   "metadata": {},
   "outputs": [],
   "source": []
  }
 ],
 "metadata": {
  "accelerator": "GPU",
  "colab": {
   "gpuType": "T4",
   "provenance": []
  },
  "kernelspec": {
   "display_name": "Python 3 (ipykernel)",
   "language": "python",
   "name": "python3"
  },
  "language_info": {
   "codemirror_mode": {
    "name": "ipython",
    "version": 3
   },
   "file_extension": ".py",
   "mimetype": "text/x-python",
   "name": "python",
   "nbconvert_exporter": "python",
   "pygments_lexer": "ipython3",
   "version": "3.10.12"
  }
 },
 "nbformat": 4,
 "nbformat_minor": 4
}
