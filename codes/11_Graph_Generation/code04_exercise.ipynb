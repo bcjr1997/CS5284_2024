{
 "cells": [
  {
   "cell_type": "markdown",
   "metadata": {
    "id": "WculWPI2Cwd8"
   },
   "source": [
    "# Lecture : Graph Generation Models\n",
    "\n",
    "## Lab 04 : Wasserstein generative adversarial networks (WGAN) for QM9 molecular graphs\n",
    "\n",
    "### Xavier Bresson, Nian Liu\n"
   ]
  },
  {
   "cell_type": "code",
   "execution_count": 1,
   "metadata": {},
   "outputs": [],
   "source": [
    "# For Google Colaboratory\n",
    "import sys, os\n",
    "if 'google.colab' in sys.modules:\n",
    "    # mount google drive\n",
    "    from google.colab import drive\n",
    "    drive.mount('/content/gdrive')\n",
    "    path_to_file = '/content/gdrive/My Drive/CS5284_2024_codes/codes/11_Graph_Generation'\n",
    "    print(path_to_file)\n",
    "    # change current path to the folder containing \"path_to_file\"\n",
    "    os.chdir(path_to_file)\n",
    "    !pwd \n",
    "    !pip install rdkit==2023.09.6 # Install RDKit\n",
    "    "
   ]
  },
  {
   "cell_type": "code",
   "execution_count": 2,
   "metadata": {
    "colab": {
     "base_uri": "https://localhost:8080/"
    },
    "executionInfo": {
     "elapsed": 8237,
     "status": "ok",
     "timestamp": 1725285960394,
     "user": {
      "displayName": "Xavier Bresson",
      "userId": "14103767471123103792"
     },
     "user_tz": -480
    },
    "id": "EPWi0LPuCweC",
    "outputId": "07c5cd22-f600-4d36-a28c-dfae931c1ca3"
   },
   "outputs": [
    {
     "name": "stderr",
     "output_type": "stream",
     "text": [
      "/home/bcjr1997/.local/lib/python3.10/site-packages/matplotlib/projections/__init__.py:63: UserWarning: Unable to import Axes3D. This may be due to multiple versions of Matplotlib being installed (e.g. as a system package and as a pip package). As a result, the 3D projection is not available.\n",
      "  warnings.warn(\"Unable to import Axes3D. This may be due to multiple versions of \"\n"
     ]
    },
    {
     "name": "stdout",
     "output_type": "stream",
     "text": [
      "2.0.1+cu118\n",
      "NVIDIA GeForce RTX 4090 Laptop GPU\n",
      "cuda:0\n"
     ]
    }
   ],
   "source": [
    "# Libraries\n",
    "import os\n",
    "import time\n",
    "from rdkit import Chem\n",
    "from rdkit import RDLogger; RDLogger.DisableLog('rdApp.*')\n",
    "from rdkit.Chem import Draw\n",
    "import torch\n",
    "import torch.nn as nn\n",
    "import torch.optim as optim\n",
    "import pickle\n",
    "import numpy as np\n",
    "import matplotlib.pyplot as plt\n",
    "import math\n",
    "import sys; sys.path.insert(0, 'lib/')\n",
    "from lib.molecules import Dictionary, Molecule, from_pymol_to_smile\n",
    "\n",
    "# PyTorch version and GPU\n",
    "print(torch.__version__)\n",
    "if torch.cuda.is_available():\n",
    "  print(torch.cuda.get_device_name(0))\n",
    "  device= torch.device(\"cuda:0\") # use GPU\n",
    "else:\n",
    "  device= torch.device(\"cpu\")\n",
    "print(device)\n"
   ]
  },
  {
   "cell_type": "markdown",
   "metadata": {},
   "source": [
    "## Loading molecular datasets (PyTorch format)"
   ]
  },
  {
   "cell_type": "code",
   "execution_count": 3,
   "metadata": {},
   "outputs": [
    {
     "name": "stdout",
     "output_type": "stream",
     "text": [
      "Loading data...\n",
      "dataset/QM9_1.4k_pytorch/\n",
      "Time: 0.3534259796142578\n",
      "num train data : 1000\n",
      "atom_dict.idx2word : ['N', 'C', 'O', 'F', 'N H3 +', 'O -', 'C H1 -', 'N +', 'N -']\n",
      "atom_dict.word2idx : {'N': 0, 'C': 1, 'O': 2, 'F': 3, 'N H3 +': 4, 'O -': 5, 'C H1 -': 6, 'N +': 7, 'N -': 8}\n",
      "bond_dict.idx2word : ['NONE', 'SINGLE', 'DOUBLE', 'TRIPLE']\n",
      "bond_dict.word2idx : {'NONE': 0, 'SINGLE': 1, 'DOUBLE': 2, 'TRIPLE': 3}\n",
      "9 4\n",
      "train[idx].atom_type : tensor([1, 1, 2, 1, 1, 1, 1])\n",
      "train[idx].atom_type_pe : tensor([0, 1, 0, 2, 3, 4, 5])\n",
      "train[idx].bond_type : tensor([[0, 1, 0, 0, 0, 0, 0],\n",
      "        [1, 0, 1, 1, 0, 0, 0],\n",
      "        [0, 1, 0, 0, 0, 0, 0],\n",
      "        [0, 1, 0, 0, 1, 1, 0],\n",
      "        [0, 0, 0, 1, 0, 1, 0],\n",
      "        [0, 0, 0, 1, 1, 0, 1],\n",
      "        [0, 0, 0, 0, 0, 1, 0]])\n",
      "train[idx].bag_of_atoms : tensor([0, 6, 1, 0, 0, 0, 0, 0, 0])\n",
      "train[idx].smile:  CC(O)C1CC1C\n"
     ]
    },
    {
     "data": {
      "image/png": "[encoded data removed]",
      "text/plain": [
       "<rdkit.Chem.rdchem.Mol at 0x7f97bab1eea0>"
      ]
     },
     "execution_count": 3,
     "metadata": {},
     "output_type": "execute_result"
    }
   ],
   "source": [
    "print('Loading data...') \n",
    "start = time.time()\n",
    "\n",
    "data_folder_pytorch = 'dataset/QM9_1.4k_pytorch/'\n",
    "print(data_folder_pytorch)\n",
    "\n",
    "with open(data_folder_pytorch+\"atom_dict.pkl\",\"rb\") as f:\n",
    "    atom_dict=pickle.load(f)\n",
    "with open(data_folder_pytorch+\"bond_dict.pkl\",\"rb\") as f:\n",
    "    bond_dict=pickle.load(f)\n",
    "with open(data_folder_pytorch+\"test_pytorch.pkl\",\"rb\") as f:\n",
    "    test=pickle.load(f)\n",
    "with open(data_folder_pytorch+\"val_pytorch.pkl\",\"rb\") as f:\n",
    "    val=pickle.load(f)\n",
    "with open(data_folder_pytorch+\"train_pytorch.pkl\",\"rb\") as f:\n",
    "    train=pickle.load(f)\n",
    "print('Time:',time.time()-start)\n",
    "\n",
    "print('num train data :',len(train)) \n",
    "\n",
    "print('atom_dict.idx2word :',atom_dict.idx2word)\n",
    "print('atom_dict.word2idx :',atom_dict.word2idx)\n",
    "print('bond_dict.idx2word :',bond_dict.idx2word)\n",
    "print('bond_dict.word2idx :',bond_dict.word2idx)\n",
    "\n",
    "num_atom_type = len(atom_dict.idx2word)\n",
    "num_bond_type = len(bond_dict.idx2word)\n",
    "print(num_atom_type, num_bond_type)\n",
    "\n",
    "idx = 45\n",
    "print('train[idx].atom_type :',train[idx].atom_type)\n",
    "print('train[idx].atom_type_pe :',train[idx].atom_type_pe)\n",
    "print('train[idx].bond_type :',train[idx].bond_type)\n",
    "print('train[idx].bag_of_atoms :',train[idx].bag_of_atoms)\n",
    "print('train[idx].smile: ',train[idx].smile)\n",
    "mol = Chem.MolFromSmiles(train[idx].smile)\n",
    "mol\n"
   ]
  },
  {
   "cell_type": "markdown",
   "metadata": {},
   "source": [
    "## Print dataset statistics"
   ]
  },
  {
   "cell_type": "code",
   "execution_count": 4,
   "metadata": {},
   "outputs": [
    {
     "name": "stdout",
     "output_type": "stream",
     "text": [
      "136\n",
      "Max num atoms =  9\n",
      "Train\n",
      "number of molecule of size 4: \t 1\n",
      "number of molecule of size 5: \t 1\n",
      "number of molecule of size 6: \t 7\n",
      "number of molecule of size 7: \t 24\n",
      "number of molecule of size 8: \t 136\n",
      "number of molecule of size 9: \t 831\n",
      "Val\n",
      "number of molecule of size 7: \t 6\n",
      "number of molecule of size 8: \t 28\n",
      "number of molecule of size 9: \t 166\n",
      "Test\n",
      "number of molecule of size 6: \t 1\n",
      "number of molecule of size 7: \t 3\n",
      "number of molecule of size 8: \t 37\n",
      "number of molecule of size 9: \t 159\n"
     ]
    }
   ],
   "source": [
    "# Organize data into group of of molecules of fixed sized\n",
    "# Example: train[9] is a list containing all the molecules of size 9  \n",
    "def group_molecules_per_size(dataset):\n",
    "    mydict={}\n",
    "    for mol in dataset:\n",
    "        if len(mol) not in mydict:\n",
    "            mydict[len(mol)]=[]\n",
    "        mydict[len(mol)].append(mol)\n",
    "    return mydict\n",
    "test_group  = group_molecules_per_size(test)\n",
    "val_group   = group_molecules_per_size(val)\n",
    "train_group = group_molecules_per_size(train)\n",
    "print(len(train_group[8])) # QM9\n",
    "\n",
    "# largest size of molecule in the trainset\n",
    "max_mol_sz = max(list( train_group.keys()))\n",
    "print('Max num atoms = ', max_mol_sz)\n",
    "\n",
    "# print distribution w.r.t. molecule size\n",
    "def print_distribution(data):\n",
    "    for nb_atom in range(max_mol_sz+1):\n",
    "        try: \n",
    "            print('number of molecule of size {}: \\t {}'.format(nb_atom, len(data[nb_atom])))\n",
    "        except:\n",
    "            pass\n",
    "print('Train'); print_distribution(train_group)\n",
    "print('Val'); print_distribution(val_group)\n",
    "print('Test'); print_distribution(test_group)\n"
   ]
  },
  {
   "cell_type": "markdown",
   "metadata": {},
   "source": [
    "## Generate batch of pytorch molecules of same size"
   ]
  },
  {
   "cell_type": "code",
   "execution_count": 5,
   "metadata": {},
   "outputs": [
    {
     "name": "stdout",
     "output_type": "stream",
     "text": [
      "sampler.num_mol : {9: 831, 8: 136, 7: 24, 6: 7, 5: 1, 4: 1}\n",
      "num_batches_remaining : {9: 17, 8: 3, 7: 1, 6: 1, 5: 1, 4: 1}\n",
      "sz : 9\n",
      "indices : 50 [  1 781  17 172 626 280 726 527 649 710 495 190 423 105 457 246 699 573\n",
      "  45 444 638 770 467 357 450 145 309  84 109 408 208 648 585 428 232 244\n",
      " 505 660 518 517 453 516 405  94 582 350 352 828 229 279]\n",
      "minibatch_node : torch.Size([50, 9])\n",
      "minibatch_pe : torch.Size([50, 9])\n",
      "minibatch_edge : torch.Size([50, 9, 9])\n",
      "minibatch_boa : torch.Size([50, 9])\n"
     ]
    }
   ],
   "source": [
    "# A class to help drawing batches of molecules with the same size\n",
    "class MoleculeSampler:\n",
    "    def __init__(self, organized_dataset, bs , shuffle=True):  \n",
    "        self.bs = bs\n",
    "        self.num_mol =  { sz: len(list_of_mol)  for sz , list_of_mol in organized_dataset.items() }\n",
    "        self.counter = { sz: 0   for sz in organized_dataset }\n",
    "        if shuffle:\n",
    "            self.order = { sz: np.random.permutation(num)  for sz , num in self.num_mol.items() }\n",
    "        else:\n",
    "            self.order = { sz: np.arange(num)  for sz , num in self.num_mol.items() } \n",
    "\n",
    "    def compute_num_batches_remaining(self):\n",
    "        return {sz:  math.ceil(((self.num_mol[sz] - self.counter[sz])/self.bs))  for sz in self.num_mol} \n",
    "\n",
    "    def choose_molecule_size(self):\n",
    "        num_batches = self.compute_num_batches_remaining()\n",
    "        possible_sizes =  np.array( list( num_batches.keys()) )\n",
    "        prob           =  np.array( list( num_batches.values() )   ) \n",
    "        prob =  prob / prob.sum()\n",
    "        sz   = np.random.choice(  possible_sizes , p=prob )\n",
    "        return sz\n",
    "\n",
    "    def is_empty(self):\n",
    "        num_batches= self.compute_num_batches_remaining()\n",
    "        return sum( num_batches.values() ) == 0\n",
    "\n",
    "    def draw_batch_of_molecules(self, sz):  \n",
    "        num_batches = self.compute_num_batches_remaining()\n",
    "        if (self.num_mol[sz] - self.counter[sz])/self.bs >= 1.0:\n",
    "            bs = self.bs\n",
    "        else:\n",
    "            bs = self.num_mol[sz] - (self.num_mol[sz]//self.bs) * self.bs\n",
    "        #print('sz, bs',sz, bs)\n",
    "        indices = self.order[sz][ self.counter[sz] : self.counter[sz] + bs]\n",
    "        self.counter[sz] += bs \n",
    "        return indices\n",
    "\n",
    "# extract one mini-batch\n",
    "bs = 50\n",
    "sampler = MoleculeSampler(train_group, bs)\n",
    "print('sampler.num_mol :',sampler.num_mol)\n",
    "while(not sampler.is_empty()):\n",
    "    num_batches_remaining = sampler.compute_num_batches_remaining()\n",
    "    print('num_batches_remaining :',num_batches_remaining)\n",
    "    sz = sampler.choose_molecule_size()\n",
    "    print('sz :',sz)\n",
    "    indices = sampler.draw_batch_of_molecules(sz) \n",
    "    print('indices :',len(indices),indices)\n",
    "    minibatch_node = torch.stack( [ train_group[sz][i].atom_type for i in indices] )\n",
    "    print('minibatch_node :',minibatch_node.size())\n",
    "    minibatch_pe  = torch.stack( [ train_group[sz][i].atom_type_pe  for i in indices] )\n",
    "    print('minibatch_pe :',minibatch_pe.size())\n",
    "    minibatch_edge = torch.stack( [ train_group[sz][i].bond_type for i in indices] )\n",
    "    print('minibatch_edge :',minibatch_edge.size())\n",
    "    minibatch_boa = torch.stack( [ train_group[sz][i].bag_of_atoms for i in indices] )\n",
    "    print('minibatch_boa :',minibatch_boa.size())\n",
    "    break\n",
    "    print('---------------------------------------')\n"
   ]
  },
  {
   "cell_type": "markdown",
   "metadata": {},
   "source": [
    "## Sample molecule size"
   ]
  },
  {
   "cell_type": "code",
   "execution_count": 6,
   "metadata": {},
   "outputs": [
    {
     "name": "stdout",
     "output_type": "stream",
     "text": [
      "sampler_size.num_mol : {9: 831, 8: 136, 7: 24, 6: 7, 5: 1, 4: 1}\n",
      "sz : 9\n"
     ]
    }
   ],
   "source": [
    "# A class to sample a molecule size w.r.t. the train distribution\n",
    "class sample_molecule_size:\n",
    "    def __init__(self, organized_dataset):  \n",
    "        self.num_mol =  { sz: len(list_of_mol)  for sz , list_of_mol in organized_dataset.items() }\n",
    "        self.num_batches_remaining = { sz:  self.num_mol[sz]  for sz in self.num_mol } \n",
    "    def choose_molecule_size(self):\n",
    "        num_batches = self.num_batches_remaining\n",
    "        possible_sizes =  np.array( list( num_batches.keys()) )\n",
    "        prob           =  np.array( list( num_batches.values() )   ) \n",
    "        prob =  prob / prob.sum()\n",
    "        sz   = np.random.choice(  possible_sizes , p=prob )\n",
    "        return sz\n",
    "        \n",
    "sampler_size = sample_molecule_size(train_group)\n",
    "print('sampler_size.num_mol :',sampler_size.num_mol)\n",
    "sz = sampler_size.choose_molecule_size()\n",
    "print('sz :',sz)\n"
   ]
  },
  {
   "cell_type": "markdown",
   "metadata": {},
   "source": [
    "# WGAN [1,2,3] with Graph Transformers [4] \n",
    "\n",
    "[1] Goodfellow et-al, Generative Adversarial Networks, 2014, https://arxiv.org/pdf/1406.2661  \n",
    "[2] Arjovsky et-al, Wasserstein GAN, 2017, https://arxiv.org/pdf/1701.07875  \n",
    "[3] Gulrajani et-al, Improved Training of Wasserstein GANs, 2017, https://arxiv.org/pdf/1704.00028  \n",
    "[4] Dwivedi, Bresson, A generalization of transformer networks to graphs, 2020, https://arxiv.org/pdf/2012.09699.pdf  \n"
   ]
  },
  {
   "cell_type": "code",
   "execution_count": 7,
   "metadata": {},
   "outputs": [
    {
     "name": "stdout",
     "output_type": "stream",
     "text": [
      "dz, num_heads, d, num_layers_discriminator, num_layers_generator, dropout_discrimator, bs :  16 4 128 2 4 0.05 10\n",
      "num_warmup : 200\n"
     ]
    }
   ],
   "source": [
    "# Global constants\n",
    "dz = 16 # number of dimensions for the compressed representation\n",
    "num_heads = 4 # number of heads in the transformer layer\n",
    "d = 32 * num_heads # number of hidden dimensions\n",
    "num_layers_discriminator = 2 # number of transformer discrimator layers\n",
    "num_layers_generator = 4 # number of transformer generator layers\n",
    "drop = 0.0 # dropout value\n",
    "dropout_discrimator = 0.05 # dropout value for discrimator\n",
    "bs = 10 # batch size\n",
    "\n",
    "print('dz, num_heads, d, num_layers_discriminator, num_layers_generator, dropout_discrimator, bs : ', \\\n",
    "      dz, num_heads, d, num_layers_discriminator, num_layers_generator, dropout_discrimator, bs)\n",
    " \n",
    "# Warmup \n",
    "num_mol_size = 20\n",
    "num_warmup = 2 * max( num_mol_size, len(train) // bs ) # 4 epochs * max( num_mol_size=20, num_mol/batch_size)\n",
    "print('num_warmup :',num_warmup)\n"
   ]
  },
  {
   "cell_type": "code",
   "execution_count": 8,
   "metadata": {},
   "outputs": [],
   "source": [
    "# Define WGAN architecture with Transformers\n",
    "class head_attention(nn.Module):\n",
    "    def __init__(self, d, d_head):\n",
    "        super().__init__()\n",
    "        self.Q = nn.Linear(d, d_head)\n",
    "        self.K = nn.Linear(d, d_head)\n",
    "        self.E = nn.Linear(d, d_head)\n",
    "        self.V = nn.Linear(d, d_head)\n",
    "        self.sqrt_d = torch.sqrt(torch.tensor(d_head))\n",
    "        self.drop_att = nn.Dropout(drop)\n",
    "        self.Ni = nn.Linear(d, d_head)\n",
    "        self.Nj = nn.Linear(d, d_head)\n",
    "    def forward(self, x, e):\n",
    "        Q = self.Q(x) # [bs, n, d_head]\n",
    "        K = self.K(x) # [bs, n, d_head]\n",
    "        V = self.V(x) # [bs, n, d_head]\n",
    "        Q = Q.unsqueeze(2) # [bs, n, 1, d_head]\n",
    "        K = K.unsqueeze(1) # [bs, 1, n, d_head]\n",
    "        E = self.E(e) # [bs, n, n, d_head]\n",
    "        Ni = self.Ni(x).unsqueeze(2) # [bs, n, 1, d_head]\n",
    "        Nj = self.Nj(x).unsqueeze(1) # [bs, 1, n, d_head]\n",
    "        e = Ni + Nj + E              # [bs, n, n, d_head]\n",
    "        Att = (Q * e * K).sum(dim=3) / self.sqrt_d # [bs, n, n]\n",
    "        Att = torch.softmax(Att, dim=1)            # [bs, n, n]\n",
    "        Att = self.drop_att(Att)                   # [bs, n, n]\n",
    "        x = Att @ V                                # [bs, n, d_head]\n",
    "        return x, e                  # [bs, n, d_head], [bs, n, n, d_head]\n",
    "\n",
    "class MHA(nn.Module):\n",
    "    def __init__(self, d, num_heads):  \n",
    "        super().__init__()\n",
    "        d_head = d // num_heads\n",
    "        self.heads = nn.ModuleList( [head_attention(d, d_head) for _ in range(num_heads)] )\n",
    "        self.WOx = nn.Linear(d, d)\n",
    "        self.WOe = nn.Linear(d, d)\n",
    "        self.drop_x = nn.Dropout(drop)\n",
    "        self.drop_e = nn.Dropout(drop)\n",
    "    def forward(self, x, e):\n",
    "        x_MHA = []\n",
    "        e_MHA = []    \n",
    "        for head in self.heads:\n",
    "            x_HA, e_HA = head(x,e)            # [bs, n, d_head], [bs, n, n, d_head]\n",
    "            x_MHA.append(x_HA)\n",
    "            e_MHA.append(e_HA)\n",
    "        x = self.WOx(torch.cat(x_MHA, dim=2)) # [bs, n, d]\n",
    "        x = self.drop_x(x)                    # [bs, n, d]\n",
    "        e = self.WOe(torch.cat(e_MHA, dim=3)) # [bs, n, n, d]\n",
    "        e = self.drop_e(e)                    # [bs, n, n, d]\n",
    "        return x, e                           # [bs, n, d], [bs, n, n, d]\n",
    "\n",
    "class BlockGT(nn.Module):\n",
    "    def __init__(self, d, num_heads):  \n",
    "        super().__init__()\n",
    "        self.LNx = nn.LayerNorm(d)\n",
    "        self.LNe = nn.LayerNorm(d)\n",
    "        self.LNx2 = nn.LayerNorm(d)\n",
    "        self.LNe2 = nn.LayerNorm(d)\n",
    "        self.MHA = MHA(d, num_heads)\n",
    "        self.MLPx = nn.Sequential(nn.Linear(d, 4*d), nn.LeakyReLU(), nn.Linear(4*d, d))\n",
    "        self.MLPe = nn.Sequential(nn.Linear(d, 4*d), nn.LeakyReLU(), nn.Linear(4*d, d))\n",
    "        self.drop_x_mlp = nn.Dropout(drop)\n",
    "        self.drop_e_mlp = nn.Dropout(drop)\n",
    "    def forward(self, x, e):\n",
    "        x = self.LNx(x)                 # [bs, n, d]\n",
    "        e = self.LNe(e)                 # [bs, n, n, d]\n",
    "        x_MHA, e_MHA = self.MHA(x, e)   # [bs, n, d], [bs, n, n, d]\n",
    "        x = x + x_MHA                   # [bs, n, d]\n",
    "        x = x + self.MLPx(self.LNx2(x)) # [bs, n, d]\n",
    "        x = self.drop_x_mlp(x)          # [bs, n, d]\n",
    "        e = e + e_MHA                   # [bs, n, n, d]\n",
    "        e = e + self.MLPe(self.LNe2(e)) # [bs, n, n, d]\n",
    "        e = self.drop_e_mlp(e)          # [bs, n, n, d]\n",
    "        return x, e                     # [bs, n, d], [bs, n, n, d]\n",
    "\n",
    "def sym_tensor(x):\n",
    "    x = x.permute(0,3,1,2) # [bs, d, n, n]\n",
    "    triu = torch.triu(x,diagonal=1).transpose(3,2) # [bs, d, n, n]\n",
    "    mask = (triu.abs()>0).float()                  # [bs, d, n, n]\n",
    "    x =  x * (1 - mask ) + mask * triu             # [bs, d, n, n]\n",
    "    x = x.permute(0,2,3,1) # [bs, n, n, d]\n",
    "    return x               # [bs, n, n, d]"
   ]
  },
  {
   "cell_type": "markdown",
   "metadata": {},
   "source": [
    "# Question 1: Implement the WGAN architecture for molecule data\n",
    "\n",
    "Hints:\n",
    "- Guarantee the matrix symmetry, i.e. $E=E^T$, whenever dealing with edge-based matrices.\n",
    "- Forward process for the generator:\n",
    "    - The sampled noise `z` is viewed as common initial features for both atoms and bonds.\n",
    "    - Map `h` and `e` back to the dimensions of atom types and bond types.\n",
    "- Forward process for the discriminator:\n",
    "    - The vector `mol_token` represents the whole molecule. It is computed by averaging the atom embeddings after the encoding process.\n",
    "    - Bond embeddings solely participate in the graph Transformer calculation.\n",
    "      "
   ]
  },
  {
   "cell_type": "code",
   "execution_count": 10,
   "metadata": {},
   "outputs": [],
   "source": [
    "class generator(nn.Module):\n",
    "    def __init__(self):\n",
    "        super().__init__()\n",
    "        self.linear_z_h = nn.Linear(dz, d)\n",
    "        self.ln_h = nn.LayerNorm(d)\n",
    "        self.ln_e = nn.LayerNorm(d)\n",
    "        self.linear_h = nn.Linear(d, d)\n",
    "        self.linear_e = nn.Linear(d, d)\n",
    "        self.gt_gen_layers = nn.ModuleList( [BlockGT(d, num_heads) for k in range(num_layers_generator)] ) \n",
    "        self.ln_final_h = nn.LayerNorm(d)  \n",
    "        self.ln_final_e = nn.LayerNorm(d)  \n",
    "        self.linear_final_h = nn.Linear(d, num_atom_type)\n",
    "        self.linear_final_e = nn.Linear(d, num_bond_type)\n",
    "    def forward(self, z, pe, n):          \n",
    "        # input layer\n",
    "        ###############################################\n",
    "        # Map `z` into the initial features for both atoms and bonds\n",
    "        # YOUR CODE STARTS\n",
    "        ###############################################\n",
    "        z = self.linear_z_h(z)           # [bs, d] \n",
    "        h = z.unsqueeze(1).repeat(1,n,1) # [bs, 1, d] => [bs, n, d]\n",
    "        e = z.unsqueeze(1).unsqueeze(2).repeat(1,n,n,1) # [bs, 1, 1, d] => [bs, n, n, d] \n",
    "        ###############################################\n",
    "        # YOUR CODE ENDS\n",
    "        ###############################################\n",
    "        h = h + pe                       # [bs, n, d]\n",
    "        e = e + pe.unsqueeze(1) + pe.unsqueeze(2)       # [bs, n, n, d]  \n",
    "        e = sym_tensor(e)     # [bs, n, n, d] \n",
    "        h = self.ln_h(h)      # [bs, n, d]\n",
    "        e = self.ln_e(e)      # [bs, n, n, d] \n",
    "        h = nn.LeakyReLU()(h) # [bs, n, d] \n",
    "        e = nn.LeakyReLU()(e) # [bs, n, n, d] \n",
    "        h = self.linear_h(h)  # [bs, n, d]\n",
    "        e = self.linear_e(e)  # [bs, n, n, d]\n",
    "        # L layers\n",
    "        ###############################################\n",
    "        # Pass through GT blocks, map `h` and `e` back\n",
    "        # YOUR CODE STARTS\n",
    "        ###############################################\n",
    "        for gt_gen_layer in self.gt_gen_layers:  \n",
    "            h, e = gt_gen_layer(h, e) # [bs, n, d],  [bs, n, n, d]\n",
    "            e = sym_tensor(e)         # [bs, n, n, d]\n",
    "        # output    \n",
    "        h = nn.LeakyReLU()(h)  # [bs, n, d] \n",
    "        e = nn.LeakyReLU()(e)  # [bs, n, n, d] \n",
    "        h = self.ln_final_h(h) # [bs, n, d] \n",
    "        e = self.ln_final_e(e) # [bs, n, n, d] \n",
    "        h = self.linear_final_h(h) # [bs, n, num_atom_type]\n",
    "        e = self.linear_final_e(e) # [bs, n, n, num_bond_type] \n",
    "        ###############################################\n",
    "        # YOUR CODE ENDS\n",
    "        ###############################################\n",
    "        return h, e\n",
    "\n",
    "class discriminator(nn.Module):\n",
    "    def __init__(self):\n",
    "        super().__init__()\n",
    "        self.atom_emb = nn.Linear(num_atom_type, d)\n",
    "        self.bond_emb = nn.Linear(num_bond_type, d)\n",
    "        self.gt_dis_layers = nn.ModuleList( [BlockGT(d, num_heads) for k in range(num_layers_discriminator)] )  \n",
    "        self.dp_h_dis_layers = nn.ModuleList( [nn.Dropout(p=dropout_discrimator) for k in range(num_layers_discriminator)] )  \n",
    "        self.dp_e_dis_layers = nn.ModuleList( [nn.Dropout(p=dropout_discrimator) for k in range(num_layers_discriminator)] )  \n",
    "        self.linear_out = nn.Linear(d, 1)\n",
    "    def forward(self, h, e, pe): \n",
    "        # input layer\n",
    "        h = self.atom_emb(h)                   # [bs, n, d]\n",
    "        h = h + pe                             # [bs, n, d]\n",
    "        e = self.bond_emb(e)                   # [bs, n, n, d]\n",
    "        e = e + pe.unsqueeze(1) + pe.unsqueeze(2) # [bs, n, n, d]  \n",
    "        e = sym_tensor(e)                      # [bs, n, n, d]\n",
    "        # L layers\n",
    "        for k in range(num_layers_discriminator): \n",
    "            h, e = self.gt_dis_layers[k](h, e) # [bs, n, d], [bs, n, n, d]\n",
    "            h = self.dp_h_dis_layers[k](h)     # [bs, n, d]\n",
    "            e = self.dp_e_dis_layers[k](e)     # [bs, n, n, d]\n",
    "        # output  \n",
    "        ###############################################\n",
    "        # Predict the truth of the given molecule\n",
    "        # YOUR CODE STARTS\n",
    "        ###############################################\n",
    "        mol_token = h.mean(1)  # [bs, d] molecule token  \n",
    "        h = self.linear_out(mol_token)  # [bs, 1]\n",
    "        ###############################################\n",
    "        # YOUR CODE ENDS\n",
    "        ###############################################\n",
    "        return h\n",
    "\n",
    "class WGAN(nn.Module):\n",
    "    def __init__(self):\n",
    "        super().__init__()\n",
    "        self.pe_x = nn.Embedding(max_mol_sz, d)\n",
    "        self.generator = generator()\n",
    "        self.discriminator = discriminator()\n",
    "    def forward_gen(self, z, n):\n",
    "        bs2 = z.size(0)\n",
    "        pe_x = torch.arange(0,n).to(device).repeat(bs2,1) # [bs, n] \n",
    "        pe_x = self.pe_x(pe_x)                            # [bs, n, d] \n",
    "        h, e = self.generator(z, pe_x, n)                 # [bs, n, num_atom_type], [bs, n, n, num_bond_type] \n",
    "        return h, e\n",
    "    def forward_dis(self, h, e, n):\n",
    "        bs2 = h.size(0)\n",
    "        pe_x = torch.arange(0,n).to(device).repeat(bs2,1) # [bs, n] \n",
    "        pe_x = self.pe_x(pe_x)                            # [bs, n, d] \n",
    "        d_h = self.discriminator(h, e, pe_x)              # [bs, 1]\n",
    "        return d_h\n"
   ]
  },
  {
   "cell_type": "markdown",
   "metadata": {},
   "source": [
    "# Question 2: Code the training loss of the discriminator\n",
    "\n",
    "Hint:\n",
    "- For molecule, we have two inputs, i.e., atoms and bonds. Therefore, the Lipschitz constraint also needs to include the gradients over these two inputs.\n",
    "  "
   ]
  },
  {
   "cell_type": "code",
   "execution_count": 14,
   "metadata": {},
   "outputs": [
    {
     "name": "stdout",
     "output_type": "stream",
     "text": [
      "Number of parameters: 2420366 (2.42 million)\n",
      "sampler.num_mol {9: 831, 8: 136, 7: 24, 6: 7, 5: 1, 4: 1}\n",
      "num_batches_remaining {9: 84, 8: 14, 7: 3, 6: 1, 5: 1, 4: 1}\n",
      "sz 9\n",
      "x_real torch.Size([10, 9, 9])\n",
      "e_real torch.Size([10, 9, 9, 4])\n",
      "z torch.Size([10, 16])\n",
      "x_fake, e_fake torch.Size([10, 9, 9]) torch.Size([10, 9, 9, 4])\n",
      "fake_discr torch.Size([10, 1])\n",
      "real_discr torch.Size([10, 1])\n",
      "x_gen torch.Size([4, 9])\n",
      "e_gen torch.Size([4, 9, 9])\n"
     ]
    }
   ],
   "source": [
    "try:\n",
    "    del net\n",
    "    torch.cuda.empty_cache()\n",
    "except:\n",
    "  print(\"First run\")\n",
    "\n",
    "\n",
    "# Instantiate the network\n",
    "net = WGAN()\n",
    "net = net.to(device)\n",
    "def display_num_param(net):\n",
    "    nb_param = 0\n",
    "    for param in net.parameters():\n",
    "        nb_param += param.numel()\n",
    "    print('Number of parameters: {} ({:.2f} million)'.format(nb_param, nb_param/1e6))\n",
    "_ = display_num_param(net)\n",
    "\n",
    "# Test the forward pass, backward pass and gradient update with a single batch\n",
    "list_param = []\n",
    "for p in net.generator.parameters():\n",
    "    list_param.append(p)\n",
    "for p in net.pe_x.parameters():\n",
    "    list_param.append(p)\n",
    "params_gen = nn.ParameterList(list_param)\n",
    "list_param = []\n",
    "for p in net.discriminator.parameters():\n",
    "    list_param.append(p)\n",
    "for p in net.pe_x.parameters():\n",
    "    list_param.append(p)\n",
    "params_dis = nn.ParameterList(list_param)\n",
    "init_lr = 0.001\n",
    "optimizer_g = torch.optim.Adam(params_gen, lr=init_lr)\n",
    "optimizer_d = torch.optim.Adam(params_dis, lr=init_lr)\n",
    "\n",
    "sampler = MoleculeSampler(train_group, bs)\n",
    "print('sampler.num_mol',sampler.num_mol)\n",
    "num_batches_remaining = sampler.compute_num_batches_remaining()\n",
    "print('num_batches_remaining',num_batches_remaining)\n",
    "sz = sampler.choose_molecule_size()\n",
    "print('sz',sz)\n",
    "indices = sampler.draw_batch_of_molecules(sz) \n",
    "#print('indices :',len(indices),indices)\n",
    "x_real = torch.stack( [ train_group[sz][i].atom_type for i in indices] ).long().to(device) # [bs, n]\n",
    "x_real = torch.nn.functional.one_hot(x_real, num_atom_type).float() # [bs, n, num_atom_type] one hot encoding\n",
    "print('x_real',x_real.size())\n",
    "e_real = torch.stack( [ train_group[sz][i].bond_type for i in indices] ).long().to(device) # [bs, n, n]\n",
    "e_real = torch.nn.functional.one_hot(e_real, num_bond_type).float() # [bs, n, num_bond_type] one hot encoding \n",
    "print('e_real',e_real.size())\n",
    "\n",
    "bs2 = x_real.size(0)\n",
    "z = torch.rand(bs2, dz).to(device) # [bs, dz]\n",
    "print('z',z.size())\n",
    "x_fake, e_fake = net.forward_gen(z, sz) # [bs, n]\n",
    "print('x_fake, e_fake',x_fake.size(), e_fake.size())\n",
    "\n",
    "fake_discr = net.forward_dis(x_fake, e_fake, sz) # [bs, 1]    \n",
    "print('fake_discr',fake_discr.size())\n",
    "real_discr = net.forward_dis(x_real, e_real, sz) # [bs, 1]\n",
    "print('real_discr',real_discr.size())\n",
    "\n",
    "###############################################\n",
    "# Calculate the loss for discriminator\n",
    "# YOUR CODE STARTS\n",
    "###############################################\n",
    "# We will need to calculate the loss for Atom and Bonds\n",
    "x_epsilon = torch.FloatTensor(bs2, 1, 1).uniform_(0, 1).to(device) # [bs, 1 , 1]\n",
    "x_hat = x_epsilon * x_real + (1 - x_epsilon) * x_fake # [bs, n, num_atom_type]\n",
    "e_epsilon = torch.FloatTensor(bs2, 1, 1, 1 ).uniform_(0, 1).to(device) # [bs, 1 , 1]\n",
    "e_hat = e_epsilon * e_real + (1 - e_epsilon) * e_fake # [bs, n, num_bond_type]\n",
    "xhat_discr = net.forward_dis(x_hat, e_hat, sz)\n",
    "x_grad, e_grad = torch.autograd.grad(xhat_discr, [x_hat, e_hat], grad_outputs=torch.ones_like(xhat_discr), create_graph=True)[:2]\n",
    "x_penalty = (torch.sqrt((x_grad ** 2).sum(1) - 1) ** 2).mean() # Gradient of D_phi(x_hat)\n",
    "e_penalty = (torch.sqrt((e_grad ** 2).sum(1) - 1) ** 2).mean() # Gradient of D_phi(e_hat)\n",
    "loss = real_discr.mean() - fake_discr.mean()  # D_phi(x_real) - D_phi(x_fake)\n",
    "loss = loss + 10 * (x_penalty + e_penalty)\n",
    "###############################################\n",
    "# YOUR CODE ENDS\n",
    "###############################################\n",
    "\n",
    "optimizer_d.zero_grad()\n",
    "loss.backward()\n",
    "optimizer_d.step()\n",
    "\n",
    "z = torch.rand(bs, dz).to(device) # [bs, dz]\n",
    "x_gen, e_gen = net.forward_gen(z, sz)\n",
    "loss = - net.forward_dis(x_gen, e_gen, sz).mean()\n",
    "optimizer_g.zero_grad()\n",
    "loss.backward()\n",
    "optimizer_g.step()\n",
    "\n",
    "# generate new data\n",
    "with torch.no_grad():\n",
    "    num_data = 4; num_atom = 9\n",
    "    z = torch.rand(num_data, dz).to(device)     # [bs, dz]\n",
    "    x_gen, e_gen = net.forward_gen(z, num_atom) # [bs, n, num_atom_type], [bs, n, num_bond_type]\n",
    "    x_gen = torch.max(x_gen, dim=2)[1]          # [bs, n]\n",
    "    e_gen = torch.max(e_gen, dim=3)[1]          # [bs, n, n]\n",
    "    print('x_gen',x_gen.size())\n",
    "    print('e_gen',e_gen.size())"
   ]
  },
  {
   "cell_type": "code",
   "execution_count": 15,
   "metadata": {
    "scrolled": true
   },
   "outputs": [
    {
     "name": "stdout",
     "output_type": "stream",
     "text": [
      "Number of parameters: 2420366 (2.42 million)\n",
      "dz, num_heads, d, num_layers_discriminator, num_layers_generator, dropout_discrimator, bs :  16 4 128 2 4 0.05 10\n",
      "num_warmup, nb_epochs : 200 1000\n",
      "epoch= 0   time= 0.1381 min   lr_d= 0.0003000   lr_g= 0.0003000   loss_d= 0.0308   loss_g= -1.3830\n",
      "epoch= 5   time= 0.8607 min   lr_d= 0.0003000   lr_g= 0.0003000   loss_d= 0.0563   loss_g= -11.0968\n",
      "epoch= 10   time= 1.5518 min   lr_d= 0.0003000   lr_g= 0.0003000   loss_d= -0.0043   loss_g= -10.8229\n",
      "epoch= 15   time= 2.2665 min   lr_d= 0.0003000   lr_g= 0.0003000   loss_d= 0.0184   loss_g= -12.8490\n"
     ]
    },
    {
     "ename": "KeyboardInterrupt",
     "evalue": "",
     "output_type": "error",
     "traceback": [
      "\u001b[0;31m---------------------------------------------------------------------------\u001b[0m",
      "\u001b[0;31mKeyboardInterrupt\u001b[0m                         Traceback (most recent call last)",
      "\u001b[0;32m/tmp/ipykernel_5749/3404543824.py\u001b[0m in \u001b[0;36m<module>\u001b[0;34m\u001b[0m\n\u001b[1;32m     76\u001b[0m             \u001b[0mloss\u001b[0m \u001b[0;34m=\u001b[0m \u001b[0;34m-\u001b[0m \u001b[0mnet\u001b[0m\u001b[0;34m.\u001b[0m\u001b[0mforward_dis\u001b[0m\u001b[0;34m(\u001b[0m\u001b[0mx_gen\u001b[0m\u001b[0;34m,\u001b[0m \u001b[0me_gen\u001b[0m\u001b[0;34m,\u001b[0m \u001b[0msz\u001b[0m\u001b[0;34m)\u001b[0m\u001b[0;34m.\u001b[0m\u001b[0mmean\u001b[0m\u001b[0;34m(\u001b[0m\u001b[0;34m)\u001b[0m\u001b[0;34m\u001b[0m\u001b[0;34m\u001b[0m\u001b[0m\n\u001b[1;32m     77\u001b[0m             \u001b[0moptimizer_g\u001b[0m\u001b[0;34m.\u001b[0m\u001b[0mzero_grad\u001b[0m\u001b[0;34m(\u001b[0m\u001b[0;34m)\u001b[0m\u001b[0;34m\u001b[0m\u001b[0;34m\u001b[0m\u001b[0m\n\u001b[0;32m---> 78\u001b[0;31m             \u001b[0mloss\u001b[0m\u001b[0;34m.\u001b[0m\u001b[0mbackward\u001b[0m\u001b[0;34m(\u001b[0m\u001b[0;34m)\u001b[0m\u001b[0;34m\u001b[0m\u001b[0;34m\u001b[0m\u001b[0m\n\u001b[0m\u001b[1;32m     79\u001b[0m             \u001b[0moptimizer_g\u001b[0m\u001b[0;34m.\u001b[0m\u001b[0mstep\u001b[0m\u001b[0;34m(\u001b[0m\u001b[0;34m)\u001b[0m\u001b[0;34m\u001b[0m\u001b[0;34m\u001b[0m\u001b[0m\n\u001b[1;32m     80\u001b[0m         \u001b[0mrunning_loss_g\u001b[0m \u001b[0;34m+=\u001b[0m \u001b[0mloss\u001b[0m\u001b[0;34m.\u001b[0m\u001b[0mdetach\u001b[0m\u001b[0;34m(\u001b[0m\u001b[0;34m)\u001b[0m\u001b[0;34m.\u001b[0m\u001b[0mcpu\u001b[0m\u001b[0;34m(\u001b[0m\u001b[0;34m)\u001b[0m\u001b[0;34m.\u001b[0m\u001b[0mitem\u001b[0m\u001b[0;34m(\u001b[0m\u001b[0;34m)\u001b[0m\u001b[0;34m\u001b[0m\u001b[0;34m\u001b[0m\u001b[0m\n",
      "\u001b[0;32m/usr/local/lib/python3.10/dist-packages/torch/_tensor.py\u001b[0m in \u001b[0;36mbackward\u001b[0;34m(self, gradient, retain_graph, create_graph, inputs)\u001b[0m\n\u001b[1;32m    485\u001b[0m                 \u001b[0minputs\u001b[0m\u001b[0;34m=\u001b[0m\u001b[0minputs\u001b[0m\u001b[0;34m,\u001b[0m\u001b[0;34m\u001b[0m\u001b[0;34m\u001b[0m\u001b[0m\n\u001b[1;32m    486\u001b[0m             )\n\u001b[0;32m--> 487\u001b[0;31m         torch.autograd.backward(\n\u001b[0m\u001b[1;32m    488\u001b[0m             \u001b[0mself\u001b[0m\u001b[0;34m,\u001b[0m \u001b[0mgradient\u001b[0m\u001b[0;34m,\u001b[0m \u001b[0mretain_graph\u001b[0m\u001b[0;34m,\u001b[0m \u001b[0mcreate_graph\u001b[0m\u001b[0;34m,\u001b[0m \u001b[0minputs\u001b[0m\u001b[0;34m=\u001b[0m\u001b[0minputs\u001b[0m\u001b[0;34m\u001b[0m\u001b[0;34m\u001b[0m\u001b[0m\n\u001b[1;32m    489\u001b[0m         )\n",
      "\u001b[0;32m/usr/local/lib/python3.10/dist-packages/torch/autograd/__init__.py\u001b[0m in \u001b[0;36mbackward\u001b[0;34m(tensors, grad_tensors, retain_graph, create_graph, grad_variables, inputs)\u001b[0m\n\u001b[1;32m    198\u001b[0m     \u001b[0;31m# some Python versions print out the first line of a multi-line function\u001b[0m\u001b[0;34m\u001b[0m\u001b[0;34m\u001b[0m\u001b[0m\n\u001b[1;32m    199\u001b[0m     \u001b[0;31m# calls in the traceback and some print out the last line\u001b[0m\u001b[0;34m\u001b[0m\u001b[0;34m\u001b[0m\u001b[0m\n\u001b[0;32m--> 200\u001b[0;31m     Variable._execution_engine.run_backward(  # Calls into the C++ engine to run the backward pass\n\u001b[0m\u001b[1;32m    201\u001b[0m         \u001b[0mtensors\u001b[0m\u001b[0;34m,\u001b[0m \u001b[0mgrad_tensors_\u001b[0m\u001b[0;34m,\u001b[0m \u001b[0mretain_graph\u001b[0m\u001b[0;34m,\u001b[0m \u001b[0mcreate_graph\u001b[0m\u001b[0;34m,\u001b[0m \u001b[0minputs\u001b[0m\u001b[0;34m,\u001b[0m\u001b[0;34m\u001b[0m\u001b[0;34m\u001b[0m\u001b[0m\n\u001b[1;32m    202\u001b[0m         allow_unreachable=True, accumulate_grad=True)  # Calls into the C++ engine to run the backward pass\n",
      "\u001b[0;31mKeyboardInterrupt\u001b[0m: "
     ]
    }
   ],
   "source": [
    "# Training loop\n",
    "del net\n",
    "net = WGAN()\n",
    "net = net.to(device)\n",
    "_ = display_num_param(net)   \n",
    "\n",
    "# Optimizer\n",
    "list_param = []\n",
    "for p in net.generator.parameters():\n",
    "    list_param.append(p)\n",
    "for p in net.pe_x.parameters():\n",
    "    list_param.append(p)\n",
    "params_gen = nn.ParameterList(list_param)\n",
    "list_param = []\n",
    "for p in net.discriminator.parameters():\n",
    "    list_param.append(p)\n",
    "for p in net.pe_x.parameters():\n",
    "    list_param.append(p)\n",
    "params_dis = nn.ParameterList(list_param)\n",
    "init_lr = 0.0003\n",
    "optimizer_g = torch.optim.Adam(params_gen, lr=init_lr, betas=(0.0, 0.9))\n",
    "optimizer_d = torch.optim.Adam(params_dis, lr=init_lr, betas=(0.0, 0.9))\n",
    "scheduler_g = optim.lr_scheduler.ReduceLROnPlateau(optimizer_g, mode='min', factor=0.95, patience=1, verbose=True)\n",
    "\n",
    "# Number of mini-batches per epoch\n",
    "nb_epochs = 1000\n",
    "run_every_k_steps = 5\n",
    "print('dz, num_heads, d, num_layers_discriminator, num_layers_generator, dropout_discrimator, bs : ', \\\n",
    "      dz, num_heads, d, num_layers_discriminator, num_layers_generator, dropout_discrimator, bs)\n",
    "print('num_warmup, nb_epochs :',num_warmup, nb_epochs)\n",
    "\n",
    "start = time.time()\n",
    "for epoch in range(nb_epochs):\n",
    "\n",
    "    running_loss_d = 0.0\n",
    "    running_loss_g = 0.0\n",
    "    num_batches = 0\n",
    "\n",
    "    net.train()\n",
    "\n",
    "    sampler = MoleculeSampler(train_group, bs)\n",
    "    count = 0\n",
    "    while(not sampler.is_empty()):\n",
    "        \n",
    "        # discriminator update\n",
    "        sz = sampler.choose_molecule_size()\n",
    "        idx_real = sampler.draw_batch_of_molecules(sz) \n",
    "        x_real = torch.stack( [ train_group[sz][i].atom_type for i in idx_real] ).long().to(device) # [bs, n]\n",
    "        x_real = torch.nn.functional.one_hot(x_real, num_atom_type).float() # [bs, n, num_atom_type] one hot encoding\n",
    "        e_real = torch.stack( [ train_group[sz][i].bond_type for i in idx_real] ).long().to(device) # [bs, n, n]\n",
    "        e_real = torch.nn.functional.one_hot(e_real, num_bond_type).float() # [bs, n, num_bond_type] one hot encoding \n",
    "        bs2 = x_real.size(0)\n",
    "        z = torch.rand(bs2, dz).to(device) # [bs, dz]\n",
    "        x_fake, e_fake = net.forward_gen(z, sz) # [bs, n]\n",
    "        fake_discr = net.forward_dis(x_fake, e_fake, sz) # [bs, 1]  \n",
    "        real_discr = net.forward_dis(x_real, e_real, sz) # [bs, 1]\n",
    "        loss = fake_discr.mean() - real_discr.mean()\n",
    "        epsilon = torch.FloatTensor(bs2, 1, 1).uniform_(0, 1).to(device)\n",
    "        x_hat = epsilon * x_fake + (1 - epsilon) * x_real\n",
    "        epsilon = torch.FloatTensor(bs2, 1, 1, 1).uniform_(0, 1).to(device)\n",
    "        e_hat = epsilon * e_fake + (1 - epsilon) * e_real\n",
    "        xhat_discr = net.forward_dis(x_hat, e_hat, sz)\n",
    "        grad_x, grad_e = torch.autograd.grad(xhat_discr, [x_hat, e_hat], grad_outputs=torch.ones_like(xhat_discr), create_graph=True)[:2]\n",
    "        penalty = ((torch.sqrt((grad_x ** 2).sum([1,2])) - 1) ** 2).mean()\n",
    "        penalty += ((torch.sqrt((grad_e ** 2).sum([1,2,3])) - 1) ** 2).mean()\n",
    "        loss = loss + 1 * penalty\n",
    "        running_loss_d = -loss.detach().cpu().item() \n",
    "        optimizer_d.zero_grad()\n",
    "        loss.backward()\n",
    "        optimizer_d.step()\n",
    "\n",
    "        # generator update\n",
    "        if count % run_every_k_steps == 0:\n",
    "            z = torch.rand(bs, dz).to(device) # [bs, dz]\n",
    "            x_gen, e_gen = net.forward_gen(z, sz)\n",
    "            loss = - net.forward_dis(x_gen, e_gen, sz).mean()\n",
    "            optimizer_g.zero_grad()\n",
    "            loss.backward()\n",
    "            optimizer_g.step()     \n",
    "        running_loss_g += loss.detach().cpu().item()      \n",
    "\n",
    "        # Compute stats\n",
    "        count += 1\n",
    "        num_batches += 1 # stats\n",
    "        \n",
    "    # Average stats\n",
    "    mean_loss_d = running_loss_d/ num_batches \n",
    "    mean_loss_g = running_loss_g/ num_batches\n",
    "    if epoch>25:\n",
    "        scheduler_g.step(mean_loss_g)\n",
    "        optimizer_d.param_groups[0]['lr'] = optimizer_g.param_groups[0]['lr']\n",
    "    elapsed = (time.time()-start)/60    \n",
    "    if not epoch%5:\n",
    "        print('epoch= %d   time= %.4f min   lr_d= %.7f   lr_g= %.7f   loss_d= %.4f   loss_g= %.4f' % (epoch, elapsed, optimizer_d.param_groups[0]['lr'], optimizer_g.param_groups[0]['lr'], mean_loss_d, mean_loss_g) )\n",
    "\n",
    "    # Check lr value\n",
    "    if optimizer_d.param_groups[0]['lr'] < 10**-6: \n",
    "      print(\"\\n lr is equal to min lr -- training stopped\\n\")\n",
    "      break    \n",
    "        \n"
   ]
  },
  {
   "cell_type": "markdown",
   "metadata": {},
   "source": []
  },
  {
   "cell_type": "markdown",
   "metadata": {},
   "source": [
    "## Compute percentage of valid molecules"
   ]
  },
  {
   "cell_type": "code",
   "execution_count": 16,
   "metadata": {},
   "outputs": [
    {
     "name": "stdout",
     "output_type": "stream",
     "text": [
      "percentage of valid molecules\n",
      "\t num_gen_mol= 1000   time(min)= 0.005   perc valid molecules= 54.1\n",
      "['N=CCOCNCC=O', 'C=CCOCCCCN', 'C=CCOCCCC=O', 'C=C1CCCCCCC1', 'N=CCOC1=C=CCC1', 'CC1CCNCCCN1', 'C#CCCCOCC=O', 'CC1CCNCCCN1', 'CC1CCCCOCC1', 'C=CCCCOCC=N']\n"
     ]
    }
   ],
   "source": [
    "# compute percentage of valid molecules\n",
    "def compute_perc_valid_molecules(net, sampler_size, num_gen_mol=1000, num_generated_mols_per_batch=100):\n",
    "    num_atom = 9 # QM9\n",
    "    num_batches = num_gen_mol // num_generated_mols_per_batch \n",
    "    num_valid_mol = 0\n",
    "    list_valid_mol = []\n",
    "    list_mol = []\n",
    "    start = time.time()\n",
    "    for idx in range(num_batches):\n",
    "        net.eval()\n",
    "        with torch.no_grad():  \n",
    "            num_atom_sampled = sampler_size.choose_molecule_size() # sample the molecule size\n",
    "            num_atom_sampled = num_atom # same size\n",
    "            z = torch.rand(num_generated_mols_per_batch, dz).to(device) # [bs, dz]\n",
    "            x_gen, e_gen = net.forward_gen(z, num_atom_sampled) # [bs, n, num_atom_type], [bs, n, num_bond_type]\n",
    "            batch_x_0 = torch.max(x_gen, dim=2)[1]  # [bs, n]\n",
    "            batch_e_0 = torch.max(e_gen, dim=3)[1] # [bs, n, n]\n",
    "            x_hat = batch_x_0.detach().to('cpu')\n",
    "            e_hat = batch_e_0.detach().to('cpu')\n",
    "            for x,e in zip(x_hat,e_hat):\n",
    "                pymol = Molecule(num_atom_sampled, num_atom_type)\n",
    "                pymol.atom_type = x\n",
    "                pymol.bond_type = e\n",
    "                smile = from_pymol_to_smile(pymol, atom_dict, bond_dict)\n",
    "                list_mol.append(smile)\n",
    "                mol = Chem.MolFromSmiles(smile)\n",
    "                if mol is not None:\n",
    "                    list_valid_mol.append(smile)\n",
    "                    num_valid_mol += 1\n",
    "    perc_valid_molecules = 100*num_valid_mol/num_gen_mol\n",
    "    line = '\\t num_gen_mol= ' + str(num_gen_mol) + '   time(min)= ' + str((time.time()-start)/60)[:5] + '   perc valid molecules= ' + str(perc_valid_molecules)[:6]\n",
    "    return perc_valid_molecules, list_mol, line, list_valid_mol\n",
    "\n",
    "perc_valid_mol, list_mol, line, list_valid_mol = compute_perc_valid_molecules(net, sampler_size)\n",
    "print('percentage of valid molecules')\n",
    "print(line)\n",
    "print(list_valid_mol[:10]) \n",
    "\n",
    " "
   ]
  },
  {
   "cell_type": "markdown",
   "metadata": {},
   "source": []
  },
  {
   "cell_type": "markdown",
   "metadata": {},
   "source": [
    "## Plot a few molecules"
   ]
  },
  {
   "cell_type": "code",
   "execution_count": 17,
   "metadata": {},
   "outputs": [
    {
     "name": "stdout",
     "output_type": "stream",
     "text": [
      "tensor([212,  91,  37, 290,  11, 463, 401, 305, 429, 141, 241, 310, 489,  44,\n",
      "        420, 334])\n"
     ]
    },
    {
     "data": {
      "text/plain": [
       "<Figure size 1200x800 with 0 Axes>"
      ]
     },
     "metadata": {},
     "output_type": "display_data"
    },
    {
     "data": {
      "image/png": "[encoded data removed]",
      "text/plain": [
       "<Figure size 1152x1152 with 16 Axes>"
      ]
     },
     "metadata": {
      "needs_background": "light"
     },
     "output_type": "display_data"
    }
   ],
   "source": [
    "num_valid_mol = len(list_valid_mol)\n",
    "num_print_mol = 16\n",
    "list_idx = torch.randperm(num_valid_mol)[:num_print_mol] \n",
    "print(list_idx)\n",
    "\n",
    "from rdkit.Chem import Draw\n",
    "list_valid_mol_img = [ Draw.MolToImage(Chem.MolFromSmiles(list_valid_mol[idx]),size=(512, 512)) for idx in list_idx ]\n",
    "\n",
    "plt.figure(1, dpi=200)\n",
    "figure, axis = plt.subplots(4, 4)\n",
    "figure.set_size_inches(16,16)\n",
    "i,j,cpt=0,0,0; axis[i,j].imshow(list_valid_mol_img[cpt]); axis[i,j].set_title(\"Generated w/ WGAN\"); axis[i,j].axis('off')\n",
    "i,j,cpt=1,0,1; axis[i,j].imshow(list_valid_mol_img[cpt]); axis[i,j].set_title(\"Generated w/ WGAN\"); axis[i,j].axis('off')\n",
    "i,j,cpt=2,0,2; axis[i,j].imshow(list_valid_mol_img[cpt]); axis[i,j].set_title(\"Generated w/ WGAN\"); axis[i,j].axis('off')\n",
    "i,j,cpt=3,0,3; axis[i,j].imshow(list_valid_mol_img[cpt]); axis[i,j].set_title(\"Generated w/ WGAN\"); axis[i,j].axis('off')\n",
    "i,j,cpt=0,1+0,4; axis[i,j].imshow(list_valid_mol_img[cpt]); axis[i,j].set_title(\"Generated w/ WGAN\"); axis[i,j].axis('off')\n",
    "i,j,cpt=1,1+0,5; axis[i,j].imshow(list_valid_mol_img[cpt]); axis[i,j].set_title(\"Generated w/ WGAN\"); axis[i,j].axis('off')\n",
    "i,j,cpt=2,1+0,6; axis[i,j].imshow(list_valid_mol_img[cpt]); axis[i,j].set_title(\"Generated w/ WGAN\"); axis[i,j].axis('off')\n",
    "i,j,cpt=3,1+0,7; axis[i,j].imshow(list_valid_mol_img[cpt]); axis[i,j].set_title(\"Generated w/ WGAN\"); axis[i,j].axis('off')\n",
    "i,j,cpt=0,2+0,8; axis[i,j].imshow(list_valid_mol_img[cpt]); axis[i,j].set_title(\"Generated w/ WGAN\"); axis[i,j].axis('off')\n",
    "i,j,cpt=1,2+0,9; axis[i,j].imshow(list_valid_mol_img[cpt]); axis[i,j].set_title(\"Generated w/ WGAN\"); axis[i,j].axis('off')\n",
    "i,j,cpt=2,2+0,10; axis[i,j].imshow(list_valid_mol_img[cpt]); axis[i,j].set_title(\"Generated w/ WGAN\"); axis[i,j].axis('off')\n",
    "i,j,cpt=3,2+0,11; axis[i,j].imshow(list_valid_mol_img[cpt]); axis[i,j].set_title(\"Generated w/ WGAN\"); axis[i,j].axis('off')\n",
    "i,j,cpt=0,3+0,12; axis[i,j].imshow(list_valid_mol_img[cpt]); axis[i,j].set_title(\"Generated w/ WGAN\"); axis[i,j].axis('off')\n",
    "i,j,cpt=1,3+0,13; axis[i,j].imshow(list_valid_mol_img[cpt]); axis[i,j].set_title(\"Generated w/ WGAN\"); axis[i,j].axis('off')\n",
    "i,j,cpt=2,3+0,14; axis[i,j].imshow(list_valid_mol_img[cpt]); axis[i,j].set_title(\"Generated w/ WGAN\"); axis[i,j].axis('off')\n",
    "i,j,cpt=3,3+0,15; axis[i,j].imshow(list_valid_mol_img[cpt]); axis[i,j].set_title(\"Generated w/ WGAN\"); axis[i,j].axis('off')\n",
    "plt.show() \n"
   ]
  },
  {
   "cell_type": "markdown",
   "metadata": {},
   "source": []
  },
  {
   "cell_type": "markdown",
   "metadata": {},
   "source": [
    "## Percentage of unique molecules among the generated molecules"
   ]
  },
  {
   "cell_type": "code",
   "execution_count": 20,
   "metadata": {
    "executionInfo": {
     "elapsed": 3,
     "status": "ok",
     "timestamp": 1725286164313,
     "user": {
      "displayName": "Xavier Bresson",
      "userId": "14103767471123103792"
     },
     "user_tz": -480
    },
    "id": "f84qL8usI38w"
   },
   "outputs": [
    {
     "name": "stdout",
     "output_type": "stream",
     "text": [
      "num_generated_mol 1000\n",
      "num_unique_mol, num_mol: 605 1000\n",
      "perc unique molecules among the generated molecules: 60.5\n"
     ]
    }
   ],
   "source": [
    "print('num_generated_mol',len(list_mol))\n",
    "num_unique_mol = 0\n",
    "for idx,mol in enumerate(list_mol):\n",
    "    list_tmp = list_mol.copy()\n",
    "    list_tmp.pop(idx)\n",
    "    if mol not in list_tmp:\n",
    "        num_unique_mol += 1\n",
    "print('num_unique_mol, num_mol:',num_unique_mol, len(list_mol))\n",
    "perc_unique_mol = 100*num_unique_mol/len(list_mol)\n",
    "print('perc unique molecules among the generated molecules:', str(perc_unique_mol)[:6])\n"
   ]
  },
  {
   "cell_type": "markdown",
   "metadata": {},
   "source": []
  },
  {
   "cell_type": "markdown",
   "metadata": {},
   "source": [
    "## Percentage of novel molecules (not present in the training set)"
   ]
  },
  {
   "cell_type": "code",
   "execution_count": 21,
   "metadata": {},
   "outputs": [
    {
     "name": "stdout",
     "output_type": "stream",
     "text": [
      "num_train_mol 1000\n",
      "['CC1C(O)C2C(O)CC12', 'N#CCC1=CC(N)=NO1', 'CC1CCC1NCC#N', 'OC1CNC2=C1C=CO2', 'O=CC12NC3C4C1N4C32', 'C1=CC2=C(C=NN2)NC1', 'C1CC23CCC2OCC13', 'C1OCC12NCC21CO1', 'NC1=NC=C(F)C=C1O', 'ON=C1C2CC3C1CC23']\n",
      "num_unique_mol, num_mol: 997 1000\n",
      "perc of novelty: 99.7\n"
     ]
    }
   ],
   "source": [
    "list_train_mol = [] \n",
    "for idx in range(len(train)):\n",
    "    list_train_mol.append(train[idx].smile) \n",
    "print('num_train_mol',len(list_train_mol))\n",
    "print(list_train_mol[:10])\n",
    "num_unique_mol = 0\n",
    "for mol in list_mol:\n",
    "    if mol not in list_train_mol:\n",
    "        num_unique_mol += 1\n",
    "print('num_unique_mol, num_mol:',num_unique_mol, len(list_mol))\n",
    "perc_novel_mol = 100 * num_unique_mol / len(list_mol)\n",
    "print('perc of novelty:', str(perc_novel_mol)[:6])\n"
   ]
  },
  {
   "cell_type": "markdown",
   "metadata": {},
   "source": []
  },
  {
   "cell_type": "markdown",
   "metadata": {},
   "source": [
    "## Compare results"
   ]
  },
  {
   "cell_type": "markdown",
   "metadata": {},
   "source": [
    "| Generative technique    | Validity (%) | Uniqueness (%) | Novelty (%) |\n",
    "| -------- | ------- | ------- | ------- |\n",
    "| VAE   | 78.4    | 86.9    |  93.1    |\n",
    "| WGAN  | 66.5    | 68.8    |  100.0    |\n",
    "\n"
   ]
  },
  {
   "cell_type": "code",
   "execution_count": null,
   "metadata": {},
   "outputs": [],
   "source": []
  },
  {
   "cell_type": "code",
   "execution_count": null,
   "metadata": {},
   "outputs": [],
   "source": []
  }
 ],
 "metadata": {
  "accelerator": "GPU",
  "colab": {
   "gpuType": "T4",
   "provenance": []
  },
  "kernelspec": {
   "display_name": "Python 3 (ipykernel)",
   "language": "python",
   "name": "python3"
  },
  "language_info": {
   "codemirror_mode": {
    "name": "ipython",
    "version": 3
   },
   "file_extension": ".py",
   "mimetype": "text/x-python",
   "name": "python",
   "nbconvert_exporter": "python",
   "pygments_lexer": "ipython3",
   "version": "3.10.12"
  }
 },
 "nbformat": 4,
 "nbformat_minor": 4
}
