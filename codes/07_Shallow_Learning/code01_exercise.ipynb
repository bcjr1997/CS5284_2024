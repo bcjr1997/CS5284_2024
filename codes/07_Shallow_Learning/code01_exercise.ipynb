{
 "cells": [
  {
   "cell_type": "markdown",
   "metadata": {
    "id": "yxR9CXSTBAxk"
   },
   "source": [
    "# Lecture : Shallow Graph Feature Learning\n",
    "\n",
    "## Lab 01 : DeepWalk - Exercise\n",
    "\n",
    "### Xavier Bresson, Guoji Fu   \n",
    "\n",
    "Perozzi, Al-Rfou, Skiena, DeepWalk: Online learning of social representations, 2014  \n",
    "https://arxiv.org/pdf/1403.6652.pdf\n",
    "\n",
    "Notebook goals :<br>\n",
    "• Design a random walk extractor <br>\n",
    "• Implement the deepwalk technique <br>\n",
    "• Compare visually the deepwalk embedding with networkx visualization <br>\n"
   ]
  },
  {
   "cell_type": "code",
   "execution_count": null,
   "metadata": {
    "colab": {
     "base_uri": "https://localhost:8080/"
    },
    "executionInfo": {
     "elapsed": 42320,
     "status": "ok",
     "timestamp": 1728724752281,
     "user": {
      "displayName": "Guoji Fu",
      "userId": "16398754709610840055"
     },
     "user_tz": -480
    },
    "id": "2rV-S-XYBAxl",
    "outputId": "8e3d54a4-3d13-4f53-ffcd-3bdfaed3c23c"
   },
   "outputs": [],
   "source": [
    "# For Google Colaboratory\n",
    "import sys, os\n",
    "if 'google.colab' in sys.modules:\n",
    "    # mount google drive\n",
    "    from google.colab import drive\n",
    "    drive.mount('/content/gdrive')\n",
    "    path_to_file = '/content/gdrive/My Drive/CS5284_2024_codes/codes/07_Shallow_Learning'\n",
    "    print(path_to_file)\n",
    "    # change current path to the folder containing \"path_to_file\"\n",
    "    os.chdir(path_to_file)\n",
    "    !pwd\n",
    "    !pip install rdkit==2023.09.6 # Install RDKit\n",
    "    !pip install dgl==1.0.0 # Install DGL\n"
   ]
  },
  {
   "cell_type": "code",
   "execution_count": null,
   "metadata": {
    "colab": {
     "base_uri": "https://localhost:8080/"
    },
    "executionInfo": {
     "elapsed": 11598,
     "status": "ok",
     "timestamp": 1728724763876,
     "user": {
      "displayName": "Guoji Fu",
      "userId": "16398754709610840055"
     },
     "user_tz": -480
    },
    "id": "4STpOp--BAxm",
    "outputId": "43271d78-94e1-4425-90df-6bfcd05a62f2"
   },
   "outputs": [],
   "source": [
    "# Libraries\n",
    "import pickle\n",
    "import sys; sys.path.insert(0, 'lib/')\n",
    "from lib.utils import Molecule\n",
    "from rdkit import Chem\n",
    "import torch\n",
    "import torch.nn as nn\n",
    "import networkx as nx\n",
    "import matplotlib.pyplot as plt\n",
    "import random\n",
    "from lib.utils import compute_ncut\n"
   ]
  },
  {
   "cell_type": "markdown",
   "metadata": {
    "id": "cbW8q7NpBAxm"
   },
   "source": [
    "## Load dataset and select one molecule"
   ]
  },
  {
   "cell_type": "code",
   "execution_count": null,
   "metadata": {
    "colab": {
     "base_uri": "https://localhost:8080/",
     "height": 703
    },
    "executionInfo": {
     "elapsed": 2644,
     "status": "ok",
     "timestamp": 1728724766508,
     "user": {
      "displayName": "Guoji Fu",
      "userId": "16398754709610840055"
     },
     "user_tz": -480
    },
    "id": "bCGHCoB4BAxm",
    "outputId": "b0213180-4e69-4b85-9776-cf2f8fe70670"
   },
   "outputs": [],
   "source": [
    "print('Loading data')\n",
    "data_folder_pytorch = 'datasets/ZINC_pytorch/'\n",
    "with open(data_folder_pytorch+\"train_pytorch.pkl\",\"rb\") as f:\n",
    "    dataset=pickle.load(f)\n",
    "\n",
    "# Select one molecule\n",
    "idx = 12\n",
    "mol = dataset[idx]\n",
    "print(mol.atom_type)\n",
    "print(mol.atom_type_pe)\n",
    "print(mol.bond_type)\n",
    "print(mol.bag_of_atoms)\n",
    "print(mol.logP_SA_cycle_normalized)\n",
    "print(mol.smile)\n",
    "Chem.MolFromSmiles(mol.smile)\n"
   ]
  },
  {
   "cell_type": "markdown",
   "metadata": {
    "id": "kfKBND7H5jkR"
   },
   "source": [
    "## Exercise 1 : Design a random walk extractor"
   ]
  },
  {
   "cell_type": "markdown",
   "metadata": {
    "id": "Re-OA4voBAxm"
   },
   "source": [
    "### Question 1.1 : Implement a class that generates a random walk path.\n",
    "\n",
    "Hints:\n",
    "- Sample the next node from the RW probability `prob_j = sample(RW[i,:]`.\n",
    "- Use Bernoulli sampling with function `torch.distributions.Categorical(prob).sample()`.\n"
   ]
  },
  {
   "cell_type": "code",
   "execution_count": null,
   "metadata": {
    "executionInfo": {
     "elapsed": 8,
     "status": "ok",
     "timestamp": 1728724766509,
     "user": {
      "displayName": "Guoji Fu",
      "userId": "16398754709610840055"
     },
     "user_tz": -480
    },
    "id": "DYt1gdswBAxm"
   },
   "outputs": [],
   "source": [
    "class sample_RW_path:\n",
    "\n",
    "    def __init__(self, num_steps, RW):\n",
    "        self.num_steps = num_steps # number of steps\n",
    "        self.RW = RW # random walk matrix\n",
    "        self.num_nodes = RW.size(0) # number of nodes\n",
    "\n",
    "    def sample_walk(self, idx_start):\n",
    "        idx = torch.tensor(idx_start).long() # starting index of the walk\n",
    "        RWpath = [idx] # random walk path\n",
    "        for _ in range(self.num_steps-1):\n",
    "            ########################################\n",
    "            # YOUR CODE START\n",
    "            # sample the next node from the RW probability prob_j = sample(RW[i,:]\n",
    "            # use Bernoulli sampling with torch.distributions.Categorical(prob).sample()\n",
    "            ########################################\n",
    "\n",
    "            idx = \n",
    "\n",
    "            ########################################\n",
    "            # YOUR CODE END\n",
    "            ########################################\n",
    "\n",
    "            RWpath.append(idx) # append sampled node to the path\n",
    "        RWpath = torch.stack(RWpath).flatten() # path format = torch.tensor([idx_1, idx_2, ..., idx_num_steps])\n",
    "        return RWpath\n",
    "\n"
   ]
  },
  {
   "cell_type": "markdown",
   "metadata": {
    "id": "TIzSkvnl-dzd"
   },
   "source": [
    "### Question 1.2 : Use the previously defined function to sample a random walk path.\n",
    "\n",
    "Hints:\n",
    "- Step 1: Compute the RW operator with $RW = D^{-1}A$.\n",
    "- Step 2: Choose the number of RW steps.\n",
    "- Step 3: Use `sample_RW_path()` to instantiate a RW class.\n",
    "- Step 4: Apply `sample_walk()` to extract a RW path.\n",
    "  "
   ]
  },
  {
   "cell_type": "code",
   "execution_count": null,
   "metadata": {
    "colab": {
     "base_uri": "https://localhost:8080/"
    },
    "executionInfo": {
     "elapsed": 7,
     "status": "ok",
     "timestamp": 1728724766509,
     "user": {
      "displayName": "Guoji Fu",
      "userId": "16398754709610840055"
     },
     "user_tz": -480
    },
    "id": "MelgjMYz-eNc",
    "outputId": "d3b72997-f03f-4785-a3c5-58e115818a39"
   },
   "outputs": [],
   "source": [
    "A = (mol.bond_type>0).float() # Adjacency matrix\n",
    "D = A.sum(dim=0) # Degree vector\n",
    "\n",
    "########################################\n",
    "# YOUR CODE START\n",
    "########################################\n",
    "\n",
    "# Step 1: # Compute the RW operator\n",
    "# Compute the inverse degree matrix\n",
    "Dinv = \n",
    "\n",
    "# Compute RW matrix\n",
    "RW = \n",
    "\n",
    "# Step 2: choose the number of RW steps\n",
    "num_RW_steps = \n",
    "\n",
    "# Step 3: instantiate RW class\n",
    "generator = \n",
    "\n",
    "# Step 4: sample RW path starting with index=7\n",
    "walk = \n",
    "\n",
    "########################################\n",
    "# YOUR CODE END\n",
    "########################################\n",
    "\n",
    "print('RW:',walk)\n",
    "\n"
   ]
  },
  {
   "cell_type": "markdown",
   "metadata": {
    "id": "eAXOc-tD-2aV"
   },
   "source": [
    "### Visualise the sampled RW path"
   ]
  },
  {
   "cell_type": "code",
   "execution_count": null,
   "metadata": {
    "colab": {
     "base_uri": "https://localhost:8080/",
     "height": 428
    },
    "executionInfo": {
     "elapsed": 860,
     "status": "ok",
     "timestamp": 1728724767364,
     "user": {
      "displayName": "Guoji Fu",
      "userId": "16398754709610840055"
     },
     "user_tz": -480
    },
    "id": "pyI_mzW_-27l",
    "outputId": "a9a87ff1-876f-4835-87ad-e8b38ac745ee"
   },
   "outputs": [],
   "source": [
    "# Check visually RW path correctness\n",
    "fig = plt.figure()\n",
    "ax = fig.add_subplot(111)\n",
    "A_nx = nx.from_numpy_array(A.numpy())\n",
    "C = compute_ncut(A.long(), 4)\n",
    "nx.draw(A_nx, ax=ax, node_color=C, cmap='jet', with_labels=True, font_size=10) # visualise node indexes\n",
    "ax.title.set_text('Molecule visualization with networkx')\n",
    "plt.show()"
   ]
  },
  {
   "cell_type": "markdown",
   "metadata": {
    "id": "-WmbQLAf6I8F"
   },
   "source": [
    "## Exercise 2 : Implement the DeepWalk paper"
   ]
  },
  {
   "cell_type": "markdown",
   "metadata": {
    "id": "m9sf7sBlBAxn"
   },
   "source": [
    "### Question 2.1 : Implement a DeepWalk network class and apply it to molecular graphs.\n",
    "\n",
    "Instructions:\n",
    "- Step 1: Extract the embedding $h_i$ for node i. You can use the `.unsqueeze()` method.\n",
    "- Step 2: Extract the embeddings $h_j$ for nodes j in the RW. You may use the `.transpose()` method.\n",
    "- Step 3: Extract the embeddings $h_k$ for nodes k not in the RW. \n"
   ]
  },
  {
   "cell_type": "code",
   "execution_count": null,
   "metadata": {
    "executionInfo": {
     "elapsed": 11,
     "status": "ok",
     "timestamp": 1728724767364,
     "user": {
      "displayName": "Guoji Fu",
      "userId": "16398754709610840055"
     },
     "user_tz": -480
    },
    "id": "_xt3KUggBAxn"
   },
   "outputs": [],
   "source": [
    "class deepwalk_net(nn.Module):\n",
    "\n",
    "    def __init__(self, num_nodes, hidden_dim, num_negative):\n",
    "        super(deepwalk_net, self).__init__()\n",
    "        print(num_nodes, hidden_dim)\n",
    "        self.num_nodes = num_nodes\n",
    "        self.num_negative = num_negative\n",
    "        self.node_embedding = nn.Embedding(num_nodes, hidden_dim)\n",
    "\n",
    "    def forward(self, walk):\n",
    "        walk_list = walk.tolist() # list nodes in RW\n",
    "        node_list = list(range(self.num_nodes)) # list all nodes\n",
    "        list_negative = torch.tensor(list(set(node_list) - set(walk_list))) # all possible negative samples\n",
    "        #list_negative = list_negative[torch.randperm(list_negative.size(0))] # ???\n",
    "        loss = []\n",
    "        for i in walk: # loop over all nodes in RW\n",
    "                       # node i that must predict all other nodes j in RW\n",
    "\n",
    "            ########################################\n",
    "            # YOUR CODE START\n",
    "            ########################################\n",
    "\n",
    "            # positive samples\n",
    "            # Step1: extract embedding hi of node i\n",
    "            hi =  # embed node i\n",
    "\n",
    "            # Step 2: extract embedding hj of nodes j in RW\n",
    "            j = torch.tensor(list(set(walk_list) - set([i.detach().item()]))) # all other nodes j in RW\n",
    "            # hj.size()=(num_RW_steps-1,hidden_dim)\n",
    "            hj =  # embed nodes j\n",
    "\n",
    "            # negative samples : select randomly \"num_negative\" nodes which are not in the RW path\n",
    "            list_negative = list_negative[torch.randperm(list_negative.size(0))][:self.num_negative] # select randomly \"num_negative\" negative samples\n",
    "\n",
    "            # Step 3: extract embedding hk of nodes k not in RW\n",
    "            # hk.size()=(num_negative,hidden_dim)\n",
    "            hk =  # embed negative nodes k\n",
    "\n",
    "            ########################################\n",
    "            # YOUR CODE END\n",
    "            ########################################\n",
    "\n",
    "            # compute loss\n",
    "            loss_i = - ( torch.log(torch.sigmoid(torch.mm(hi,hj))).sum() - 0.25*torch.log(torch.sigmoid(torch.mm(hi,hk))).sum() )\n",
    "            loss.append(loss_i)\n",
    "        loss = torch.stack(loss).mean()\n",
    "        return loss\n",
    "\n",
    "\n"
   ]
  },
  {
   "cell_type": "markdown",
   "metadata": {
    "id": "ibjmHTyq74_e"
   },
   "source": [
    "### Question 2.2 : Instantiate a DeepWalk network\n",
    "\n",
    "Instructions:\n",
    "- Select the number of negative samples and use the `deepwalk()` function to instantiate the network.\n",
    "- Evaluate and compare the performance of DeepWalk networks using different numbers of negative samples.\n"
   ]
  },
  {
   "cell_type": "code",
   "execution_count": null,
   "metadata": {
    "colab": {
     "base_uri": "https://localhost:8080/"
    },
    "executionInfo": {
     "elapsed": 10,
     "status": "ok",
     "timestamp": 1728724767364,
     "user": {
      "displayName": "Guoji Fu",
      "userId": "16398754709610840055"
     },
     "user_tz": -480
    },
    "id": "_L9IzTPW75uU",
    "outputId": "fbc01ad3-c9d9-4aa3-d230-7044fe49cb2f"
   },
   "outputs": [],
   "source": [
    "num_nodes = A.size(0)\n",
    "\n",
    "########################################\n",
    "# YOUR CODE START\n",
    "########################################\n",
    "\n",
    "# select num_negative = num_RW_steps/4\n",
    "net = \n",
    "\n",
    "########################################\n",
    "# YOUR CODE END\n",
    "########################################\n",
    "\n",
    "print(net)\n"
   ]
  },
  {
   "cell_type": "markdown",
   "metadata": {
    "id": "kr30gtm_79Ih"
   },
   "source": [
    "### Train the deepwalk network"
   ]
  },
  {
   "cell_type": "code",
   "execution_count": null,
   "metadata": {
    "colab": {
     "base_uri": "https://localhost:8080/"
    },
    "executionInfo": {
     "elapsed": 107994,
     "status": "ok",
     "timestamp": 1728724875352,
     "user": {
      "displayName": "Guoji Fu",
      "userId": "16398754709610840055"
     },
     "user_tz": -480
    },
    "id": "-BALDiwT79bB",
    "outputId": "ba9a5859-6fc6-4c08-c541-f43efb99571e"
   },
   "outputs": [],
   "source": [
    "# Train the network\n",
    "optimizer = torch.optim.Adam( net.parameters() , lr=0.001 )\n",
    "for iter in range(300):\n",
    "    loss_epoch = 0.0\n",
    "    for idx in torch.randperm(num_nodes).tolist(): # shuffle ordering of nodes\n",
    "        walk = generator.sample_walk(idx)\n",
    "        loss = net(walk)\n",
    "        optimizer.zero_grad()\n",
    "        loss.backward()\n",
    "        optimizer.step()\n",
    "        loss_epoch += loss.detach()\n",
    "        with torch.no_grad():\n",
    "            # centering the embedding coordinates\n",
    "            # helps optimization by reducing one degree of freedom\n",
    "            net.node_embedding.weight.sub_(net.node_embedding.weight.mean(dim=0))\n",
    "    # plot the loss value\n",
    "    if not iter%10:\n",
    "        print(iter,loss_epoch/num_nodes)\n",
    "\n"
   ]
  },
  {
   "cell_type": "markdown",
   "metadata": {
    "id": "1awvRsTd7_oj"
   },
   "source": [
    "### Visualize the node embeddings in 2D"
   ]
  },
  {
   "cell_type": "code",
   "execution_count": null,
   "metadata": {
    "colab": {
     "base_uri": "https://localhost:8080/",
     "height": 863
    },
    "executionInfo": {
     "elapsed": 1149,
     "status": "ok",
     "timestamp": 1728724876497,
     "user": {
      "displayName": "Guoji Fu",
      "userId": "16398754709610840055"
     },
     "user_tz": -480
    },
    "id": "WqCMiE6r7_48",
    "outputId": "29aa0e52-02e0-46c0-d88b-2038b116ae64"
   },
   "outputs": [],
   "source": [
    "# Visualize the 2D coordinates of the node embeddings\n",
    "x = net.node_embedding.weight.detach()\n",
    "print(x,x.size())\n",
    "\n",
    "# plot 2D coordinates\n",
    "fig = plt.figure()\n",
    "ax = fig.add_subplot(111)\n",
    "ax.scatter(x[:,0], x[:,1])\n",
    "idx = list(range(num_nodes))\n",
    "ax.scatter(x[:,0], x[:,1], c=C, cmap='jet')\n",
    "for i, txt in enumerate(idx):\n",
    "    ax.annotate(txt, (x[:,0][i], x[:,1][i]), textcoords=\"offset points\", xytext=(1,5))\n",
    "ax.title.set_text('2D embdding of nodes')\n",
    "plt.show()"
   ]
  },
  {
   "cell_type": "markdown",
   "metadata": {
    "id": "IAwy-18B6Rh_"
   },
   "source": [
    "### Question 2.3 : Compare visually the deepwalk embedding with the networkx visualization\n"
   ]
  },
  {
   "cell_type": "code",
   "execution_count": null,
   "metadata": {
    "colab": {
     "base_uri": "https://localhost:8080/",
     "height": 428
    },
    "executionInfo": {
     "elapsed": 11,
     "status": "ok",
     "timestamp": 1728724876498,
     "user": {
      "displayName": "Guoji Fu",
      "userId": "16398754709610840055"
     },
     "user_tz": -480
    },
    "id": "5h5HR5j1BAxn",
    "outputId": "f60bef90-061b-41b6-9b78-2a67202cc9fd"
   },
   "outputs": [],
   "source": [
    "# Compare with graph edges\n",
    "fig = plt.figure()\n",
    "ax = fig.add_subplot(111)\n",
    "nx.draw(A_nx, ax=ax, node_color=C, cmap='jet', with_labels=True, font_size=10) # visualise node indexes\n",
    "ax.title.set_text('Molecular graph')\n",
    "plt.show()\n"
   ]
  },
  {
   "cell_type": "code",
   "execution_count": null,
   "metadata": {
    "executionInfo": {
     "elapsed": 9,
     "status": "ok",
     "timestamp": 1728724876498,
     "user": {
      "displayName": "Guoji Fu",
      "userId": "16398754709610840055"
     },
     "user_tz": -480
    },
    "id": "dxGRvmOyBAxn"
   },
   "outputs": [],
   "source": []
  },
  {
   "cell_type": "code",
   "execution_count": null,
   "metadata": {
    "executionInfo": {
     "elapsed": 9,
     "status": "ok",
     "timestamp": 1728724876498,
     "user": {
      "displayName": "Guoji Fu",
      "userId": "16398754709610840055"
     },
     "user_tz": -480
    },
    "id": "IcfaQtZ3BAxn"
   },
   "outputs": [],
   "source": []
  }
 ],
 "metadata": {
  "colab": {
   "provenance": []
  },
  "kernelspec": {
   "display_name": "Python 3 (ipykernel)",
   "language": "python",
   "name": "python3"
  },
  "language_info": {
   "codemirror_mode": {
    "name": "ipython",
    "version": 3
   },
   "file_extension": ".py",
   "mimetype": "text/x-python",
   "name": "python",
   "nbconvert_exporter": "python",
   "pygments_lexer": "ipython3",
   "version": "3.8.20"
  }
 },
 "nbformat": 4,
 "nbformat_minor": 4
}
