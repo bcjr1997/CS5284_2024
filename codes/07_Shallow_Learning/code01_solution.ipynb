{
 "cells": [
  {
   "cell_type": "markdown",
   "metadata": {
    "id": "yxR9CXSTBAxk"
   },
   "source": [
    "# Lecture : Shallow Graph Feature Learning\n",
    "\n",
    "## Lab 01 : DeepWalk - Solution\n",
    "\n",
    "### Xavier Bresson, Guoji Fu   \n",
    "\n",
    "Perozzi, Al-Rfou, Skiena, DeepWalk: Online learning of social representations, 2014  \n",
    "https://arxiv.org/pdf/1403.6652.pdf\n",
    "\n",
    "Notebook goals :<br>\n",
    "• Design a random walk extractor <br>\n",
    "• Implement the deepwalk technique <br>\n",
    "• Compare visually the deepwalk embedding with networkx visualization <br>\n"
   ]
  },
  {
   "cell_type": "code",
   "execution_count": 1,
   "metadata": {
    "colab": {
     "base_uri": "https://localhost:8080/"
    },
    "executionInfo": {
     "elapsed": 42320,
     "status": "ok",
     "timestamp": 1728724752281,
     "user": {
      "displayName": "Guoji Fu",
      "userId": "16398754709610840055"
     },
     "user_tz": -480
    },
    "id": "2rV-S-XYBAxl",
    "outputId": "8e3d54a4-3d13-4f53-ffcd-3bdfaed3c23c"
   },
   "outputs": [],
   "source": [
    "# For Google Colaboratory\n",
    "import sys, os\n",
    "if 'google.colab' in sys.modules:\n",
    "    # mount google drive\n",
    "    from google.colab import drive\n",
    "    drive.mount('/content/gdrive')\n",
    "    path_to_file = '/content/gdrive/My Drive/CS5284_2024_codes/codes/07_Shallow_Learning'\n",
    "    print(path_to_file)\n",
    "    # change current path to the folder containing \"path_to_file\"\n",
    "    os.chdir(path_to_file)\n",
    "    !pwd\n",
    "    !pip install rdkit==2023.09.6 # Install RDKit\n",
    "    !pip install dgl==1.0.0 # Install DGL\n"
   ]
  },
  {
   "cell_type": "code",
   "execution_count": 2,
   "metadata": {
    "colab": {
     "base_uri": "https://localhost:8080/"
    },
    "executionInfo": {
     "elapsed": 11598,
     "status": "ok",
     "timestamp": 1728724763876,
     "user": {
      "displayName": "Guoji Fu",
      "userId": "16398754709610840055"
     },
     "user_tz": -480
    },
    "id": "4STpOp--BAxm",
    "outputId": "43271d78-94e1-4425-90df-6bfcd05a62f2"
   },
   "outputs": [],
   "source": [
    "# Libraries\n",
    "import pickle\n",
    "import sys; sys.path.insert(0, 'lib/')\n",
    "from lib.utils import Molecule\n",
    "from rdkit import Chem\n",
    "import torch\n",
    "import torch.nn as nn\n",
    "import networkx as nx\n",
    "import matplotlib.pyplot as plt\n",
    "import random\n",
    "from lib.utils import compute_ncut\n"
   ]
  },
  {
   "cell_type": "markdown",
   "metadata": {
    "id": "cbW8q7NpBAxm"
   },
   "source": [
    "## Load dataset and select one molecule"
   ]
  },
  {
   "cell_type": "code",
   "execution_count": 3,
   "metadata": {
    "colab": {
     "base_uri": "https://localhost:8080/",
     "height": 703
    },
    "executionInfo": {
     "elapsed": 2644,
     "status": "ok",
     "timestamp": 1728724766508,
     "user": {
      "displayName": "Guoji Fu",
      "userId": "16398754709610840055"
     },
     "user_tz": -480
    },
    "id": "bCGHCoB4BAxm",
    "outputId": "b0213180-4e69-4b85-9776-cf2f8fe70670"
   },
   "outputs": [
    {
     "name": "stdout",
     "output_type": "stream",
     "text": [
      "Loading data\n",
      "tensor([0, 5, 0, 0, 0, 0, 1, 2, 0, 0, 0, 0, 0, 0, 2, 0, 1, 0, 4, 0, 0, 0, 2])\n",
      "tensor([ 0,  0,  1,  2,  3,  4,  0,  0,  5,  6,  7,  8,  9, 10,  1, 11,  1, 12,\n",
      "         0, 13, 14, 15,  2])\n",
      "tensor([[0, 1, 0, 0, 0, 0, 0, 0, 0, 0, 0, 0, 0, 0, 0, 0, 0, 0, 0, 0, 0, 0, 0],\n",
      "        [1, 0, 1, 0, 0, 0, 0, 0, 0, 0, 0, 0, 0, 0, 0, 0, 0, 0, 0, 0, 0, 0, 0],\n",
      "        [0, 1, 0, 2, 0, 0, 0, 0, 0, 0, 0, 0, 0, 0, 0, 0, 0, 0, 0, 0, 0, 0, 1],\n",
      "        [0, 0, 2, 0, 1, 0, 0, 0, 0, 0, 0, 0, 0, 0, 0, 0, 0, 0, 0, 0, 0, 0, 0],\n",
      "        [0, 0, 0, 1, 0, 1, 0, 0, 0, 0, 0, 0, 0, 0, 0, 0, 0, 0, 0, 0, 2, 0, 0],\n",
      "        [0, 0, 0, 0, 1, 0, 2, 1, 0, 0, 0, 0, 0, 0, 0, 0, 0, 0, 0, 0, 0, 0, 0],\n",
      "        [0, 0, 0, 0, 0, 2, 0, 0, 0, 0, 0, 0, 0, 0, 0, 0, 0, 0, 0, 0, 0, 0, 0],\n",
      "        [0, 0, 0, 0, 0, 1, 0, 0, 1, 0, 0, 0, 0, 0, 0, 0, 0, 0, 1, 0, 0, 0, 0],\n",
      "        [0, 0, 0, 0, 0, 0, 0, 1, 0, 2, 0, 0, 0, 1, 0, 0, 0, 0, 0, 0, 0, 0, 0],\n",
      "        [0, 0, 0, 0, 0, 0, 0, 0, 2, 0, 1, 0, 0, 0, 0, 0, 0, 0, 0, 0, 0, 0, 0],\n",
      "        [0, 0, 0, 0, 0, 0, 0, 0, 0, 1, 0, 2, 0, 0, 0, 0, 0, 0, 0, 0, 0, 0, 0],\n",
      "        [0, 0, 0, 0, 0, 0, 0, 0, 0, 0, 2, 0, 1, 0, 0, 0, 0, 0, 0, 0, 0, 0, 0],\n",
      "        [0, 0, 0, 0, 0, 0, 0, 0, 0, 0, 0, 1, 0, 2, 0, 0, 0, 0, 0, 0, 0, 0, 0],\n",
      "        [0, 0, 0, 0, 0, 0, 0, 0, 1, 0, 0, 0, 2, 0, 1, 0, 0, 0, 0, 0, 0, 0, 0],\n",
      "        [0, 0, 0, 0, 0, 0, 0, 0, 0, 0, 0, 0, 0, 1, 0, 1, 0, 0, 0, 0, 0, 0, 0],\n",
      "        [0, 0, 0, 0, 0, 0, 0, 0, 0, 0, 0, 0, 0, 0, 1, 0, 2, 1, 0, 0, 0, 0, 0],\n",
      "        [0, 0, 0, 0, 0, 0, 0, 0, 0, 0, 0, 0, 0, 0, 0, 2, 0, 0, 0, 0, 0, 0, 0],\n",
      "        [0, 0, 0, 0, 0, 0, 0, 0, 0, 0, 0, 0, 0, 0, 0, 1, 0, 0, 1, 0, 0, 0, 0],\n",
      "        [0, 0, 0, 0, 0, 0, 0, 1, 0, 0, 0, 0, 0, 0, 0, 0, 0, 1, 0, 1, 0, 0, 0],\n",
      "        [0, 0, 0, 0, 0, 0, 0, 0, 0, 0, 0, 0, 0, 0, 0, 0, 0, 0, 1, 0, 0, 0, 0],\n",
      "        [0, 0, 0, 0, 2, 0, 0, 0, 0, 0, 0, 0, 0, 0, 0, 0, 0, 0, 0, 0, 0, 1, 0],\n",
      "        [0, 0, 0, 0, 0, 0, 0, 0, 0, 0, 0, 0, 0, 0, 0, 0, 0, 0, 0, 0, 1, 0, 2],\n",
      "        [0, 0, 1, 0, 0, 0, 0, 0, 0, 0, 0, 0, 0, 0, 0, 0, 0, 0, 0, 0, 0, 2, 0]])\n",
      "tensor([16,  2,  3,  0,  1,  1,  0,  0,  0,  0,  0,  0,  0,  0,  0,  0,  0,  0])\n",
      "tensor([-2.2699])\n",
      "CSC1=CC(C(=O)N2C3=CC=CC=C3NC(=O)C[C@@H]2C)=CC=N1\n"
     ]
    },
    {
     "data": {
      "image/png": "[encoded data removed]",
      "text/plain": [
       "<rdkit.Chem.rdchem.Mol at 0x17d104e1c10>"
      ]
     },
     "execution_count": 3,
     "metadata": {},
     "output_type": "execute_result"
    }
   ],
   "source": [
    "print('Loading data')\n",
    "data_folder_pytorch = 'datasets/ZINC_pytorch/'\n",
    "with open(data_folder_pytorch+\"train_pytorch.pkl\",\"rb\") as f:\n",
    "    dataset=pickle.load(f)\n",
    "\n",
    "# Select one molecule\n",
    "idx = 12\n",
    "mol = dataset[idx]\n",
    "print(mol.atom_type)\n",
    "print(mol.atom_type_pe)\n",
    "print(mol.bond_type)\n",
    "print(mol.bag_of_atoms)\n",
    "print(mol.logP_SA_cycle_normalized)\n",
    "print(mol.smile)\n",
    "Chem.MolFromSmiles(mol.smile)\n"
   ]
  },
  {
   "cell_type": "markdown",
   "metadata": {
    "id": "kfKBND7H5jkR"
   },
   "source": [
    "## Exercise 1 : Design a random walk extractor"
   ]
  },
  {
   "cell_type": "markdown",
   "metadata": {
    "id": "Re-OA4voBAxm"
   },
   "source": [
    "### Question 1.1 : Implement a class that generates a random walk path.\n",
    "\n",
    "Hints:\n",
    "- Sample the next node from the RW probability `prob_j = sample(RW[i,:]`.\n",
    "- Use Bernoulli sampling with function `torch.distributions.Categorical(prob).sample()`.\n"
   ]
  },
  {
   "cell_type": "code",
   "execution_count": 4,
   "metadata": {
    "executionInfo": {
     "elapsed": 8,
     "status": "ok",
     "timestamp": 1728724766509,
     "user": {
      "displayName": "Guoji Fu",
      "userId": "16398754709610840055"
     },
     "user_tz": -480
    },
    "id": "DYt1gdswBAxm"
   },
   "outputs": [],
   "source": [
    "class sample_RW_path:\n",
    "\n",
    "    def __init__(self, num_steps, RW):\n",
    "        self.num_steps = num_steps # number of steps\n",
    "        self.RW = RW # random walk matrix\n",
    "        self.num_nodes = RW.size(0) # number of nodes\n",
    "\n",
    "    def sample_walk(self, idx_start):\n",
    "        idx = torch.tensor(idx_start).long() # starting index of the walk\n",
    "        RWpath = [idx] # random walk path\n",
    "        for _ in range(self.num_steps-1):\n",
    "            ########################################\n",
    "            # YOUR CODE START\n",
    "            # sample the next node from the RW probability prob_j = sample(RW[i,:])\n",
    "            # use Bernoulli sampling with torch.distributions.Categorical(prob).sample()\n",
    "            ########################################\n",
    "            # Sample Next Step using Bernoulli Sampling\n",
    "            idx = torch.distributions.Categorical(self.RW[idx,:]).sample() # Shape of 1\n",
    "\n",
    "            ########################################\n",
    "            # YOUR CODE END\n",
    "            ########################################\n",
    "\n",
    "            RWpath.append(idx) # append sampled node to the path\n",
    "        RWpath = torch.stack(RWpath).flatten() # path format = torch.tensor([idx_1, idx_2, ..., idx_num_steps])\n",
    "        return RWpath\n",
    "\n"
   ]
  },
  {
   "cell_type": "markdown",
   "metadata": {
    "id": "TIzSkvnl-dzd"
   },
   "source": [
    "### Question 1.2 : Use the previously defined function to sample a random walk path.\n",
    "\n",
    "Hints:\n",
    "- Step 1: Compute the RW operator with $RW = D^{-1}A$.\n",
    "- Step 2: Choose the number of RW steps.\n",
    "- Step 3: Use `sample_RW_path()` to instantiate a RW class.\n",
    "- Step 4: Apply `sample_walk()` to extract a RW path.\n",
    "  "
   ]
  },
  {
   "cell_type": "code",
   "execution_count": 5,
   "metadata": {
    "colab": {
     "base_uri": "https://localhost:8080/"
    },
    "executionInfo": {
     "elapsed": 7,
     "status": "ok",
     "timestamp": 1728724766509,
     "user": {
      "displayName": "Guoji Fu",
      "userId": "16398754709610840055"
     },
     "user_tz": -480
    },
    "id": "MelgjMYz-eNc",
    "outputId": "d3b72997-f03f-4785-a3c5-58e115818a39"
   },
   "outputs": [
    {
     "name": "stdout",
     "output_type": "stream",
     "text": [
      "RW: tensor([7, 5, 7, 8])\n"
     ]
    }
   ],
   "source": [
    "A = (mol.bond_type>0).float() # Adjacency matrix\n",
    "D = A.sum(dim=0) # Degree vector\n",
    "\n",
    "########################################\n",
    "# YOUR CODE START\n",
    "########################################\n",
    "\n",
    "# Step 1: # Compute the RW operator\n",
    "# Compute the inverse degree matrix\n",
    "Dinv = (D**(-1)).diag() # Recall that Degree Matrix is just a Diagonal Matrix\n",
    "\n",
    "# Compute RW matrix\n",
    "RW = torch.mm(Dinv,A) # RW matrix\n",
    "\n",
    "# Step 2: choose the number of RW steps\n",
    "num_RW_steps = 4 # QM9\n",
    "\n",
    "# Step 3: instantiate RW class\n",
    "generator = sample_RW_path(num_RW_steps, RW)\n",
    "\n",
    "# Step 4: sample RW path starting with index=7\n",
    "walk = generator.sample_walk(7)\n",
    "\n",
    "########################################\n",
    "# YOUR CODE END\n",
    "########################################\n",
    "\n",
    "print('RW:',walk)\n"
   ]
  },
  {
   "cell_type": "markdown",
   "metadata": {
    "id": "eAXOc-tD-2aV"
   },
   "source": [
    "### Visualise the sampled RW path"
   ]
  },
  {
   "cell_type": "code",
   "execution_count": 6,
   "metadata": {
    "colab": {
     "base_uri": "https://localhost:8080/",
     "height": 428
    },
    "executionInfo": {
     "elapsed": 860,
     "status": "ok",
     "timestamp": 1728724767364,
     "user": {
      "displayName": "Guoji Fu",
      "userId": "16398754709610840055"
     },
     "user_tz": -480
    },
    "id": "pyI_mzW_-27l",
    "outputId": "a9a87ff1-876f-4835-87ad-e8b38ac745ee"
   },
   "outputs": [
    {
     "data": {
      "image/png": "[encoded data removed]",
      "text/plain": [
       "<Figure size 640x480 with 1 Axes>"
      ]
     },
     "metadata": {},
     "output_type": "display_data"
    }
   ],
   "source": [
    "# Check visually RW path correctness\n",
    "fig = plt.figure()\n",
    "ax = fig.add_subplot(111)\n",
    "A_nx = nx.from_numpy_array(A.numpy())\n",
    "C = compute_ncut(A.long(), 4)\n",
    "nx.draw(A_nx, ax=ax, node_color=C, cmap='jet', with_labels=True, font_size=10) # visualise node indexes\n",
    "ax.title.set_text('Molecule visualization with networkx')\n",
    "plt.show()"
   ]
  },
  {
   "cell_type": "markdown",
   "metadata": {
    "id": "-WmbQLAf6I8F"
   },
   "source": [
    "## Exercise 2 : Implement the DeepWalk paper"
   ]
  },
  {
   "cell_type": "markdown",
   "metadata": {
    "id": "m9sf7sBlBAxn"
   },
   "source": [
    "### Question 2.1 : Implement a DeepWalk network class and apply it to molecular graphs.\n",
    "\n",
    "Instructions:\n",
    "- Step 1: Extract the embedding $h_i$ for node i. You can use the `.unsqueeze()` method.\n",
    "- Step 2: Extract the embeddings $h_j$ for nodes j in the RW. You may use the `.transpose()` method.\n",
    "- Step 3: Extract the embeddings $h_k$ for nodes k not in the RW. \n"
   ]
  },
  {
   "cell_type": "code",
   "execution_count": 7,
   "metadata": {
    "executionInfo": {
     "elapsed": 11,
     "status": "ok",
     "timestamp": 1728724767364,
     "user": {
      "displayName": "Guoji Fu",
      "userId": "16398754709610840055"
     },
     "user_tz": -480
    },
    "id": "_xt3KUggBAxn"
   },
   "outputs": [],
   "source": [
    "class deepwalk_net(nn.Module):\n",
    "\n",
    "    def __init__(self, num_nodes, hidden_dim, num_negative):\n",
    "        super(deepwalk_net, self).__init__()\n",
    "        print(num_nodes, hidden_dim)\n",
    "        self.num_nodes = num_nodes\n",
    "        self.num_negative = num_negative\n",
    "        self.node_embedding = nn.Embedding(num_nodes, hidden_dim)\n",
    "\n",
    "    def forward(self, walk):\n",
    "        walk_list = walk.tolist() # list nodes in RW\n",
    "        node_list = list(range(self.num_nodes)) # list all nodes\n",
    "        list_negative = torch.tensor(list(set(node_list) - set(walk_list))) # all possible negative samples\n",
    "        #list_negative = list_negative[torch.randperm(list_negative.size(0))] # ???\n",
    "        loss = []\n",
    "        for i in walk: # loop over all nodes in RW\n",
    "                       # node i that must predict all other nodes j in RW\n",
    "\n",
    "            ########################################\n",
    "            # YOUR CODE START\n",
    "            ########################################\n",
    "\n",
    "            # positive samples\n",
    "            # Step1: extract embedding hi of node i\n",
    "            # hi shape: [1, hidden_dim]\n",
    "            hi = self.node_embedding(i).unsqueeze(0) # embed node i\n",
    "\n",
    "            # Step 2: extract embedding hj of nodes j in RW\n",
    "            j = torch.tensor(list(set(walk_list) - set([i.detach().item()]))) # all other nodes j in RW\n",
    "            # hj.size()=(num_RW_steps-1,hidden_dim), you may use \".transpose()\"\n",
    "            # transpose of hj shape = [hidden_dim, num_rw_steps - 1]\n",
    "            hj = self.node_embedding(j).transpose(1,0) # embed nodes j\n",
    "\n",
    "            # negative samples : select randomly \"num_negative\" nodes which are not in the RW path\n",
    "            list_negative = list_negative[torch.randperm(list_negative.size(0))][:self.num_negative] # select randomly \"num_negative\" negative samples\n",
    "\n",
    "            # Step 3: extract embedding hk of nodes k not in RW\n",
    "            # hk.size()=(num_negative,hidden_dim), you may use \".transpose()\"\n",
    "            #hk = ### YOUR CODE HERE\n",
    "            # Transpose of hk shape = [hidden_dim, num_negative]\n",
    "            hk = self.node_embedding(list_negative).transpose(1,0) # embed negative nodes k\n",
    "\n",
    "            ########################################\n",
    "            # YOUR CODE END\n",
    "            ########################################\n",
    "\n",
    "            # compute loss\n",
    "            loss_i = - ( torch.log(torch.sigmoid(torch.mm(hi,hj))).sum() - 0.25*torch.log(torch.sigmoid(torch.mm(hi,hk))).sum() )\n",
    "            loss.append(loss_i)\n",
    "        loss = torch.stack(loss).mean()\n",
    "        return loss\n"
   ]
  },
  {
   "cell_type": "markdown",
   "metadata": {
    "id": "ibjmHTyq74_e"
   },
   "source": [
    "### Question 2.2 : Instantiate a DeepWalk network\n",
    "\n",
    "Instructions:\n",
    "- Select the number of negative samples and use the `deepwalk()` function to instantiate the network.\n",
    "- Evaluate and compare the performance of DeepWalk networks using different numbers of negative samples.\n"
   ]
  },
  {
   "cell_type": "code",
   "execution_count": 8,
   "metadata": {
    "colab": {
     "base_uri": "https://localhost:8080/"
    },
    "executionInfo": {
     "elapsed": 10,
     "status": "ok",
     "timestamp": 1728724767364,
     "user": {
      "displayName": "Guoji Fu",
      "userId": "16398754709610840055"
     },
     "user_tz": -480
    },
    "id": "_L9IzTPW75uU",
    "outputId": "fbc01ad3-c9d9-4aa3-d230-7044fe49cb2f"
   },
   "outputs": [
    {
     "name": "stdout",
     "output_type": "stream",
     "text": [
      "23 2\n",
      "deepwalk_net(\n",
      "  (node_embedding): Embedding(23, 2)\n",
      ")\n"
     ]
    }
   ],
   "source": [
    "num_nodes = A.size(0)\n",
    "\n",
    "########################################\n",
    "# YOUR CODE START\n",
    "########################################\n",
    "\n",
    "# select num_negative = num_RW_steps/4\n",
    "net = deepwalk_net(num_nodes, 2, num_RW_steps//4)\n",
    "\n",
    "########################################\n",
    "# YOUR CODE END\n",
    "########################################\n",
    "\n",
    "print(net)\n"
   ]
  },
  {
   "cell_type": "markdown",
   "metadata": {
    "id": "kr30gtm_79Ih"
   },
   "source": [
    "### Train the deepwalk network"
   ]
  },
  {
   "cell_type": "code",
   "execution_count": 9,
   "metadata": {
    "colab": {
     "base_uri": "https://localhost:8080/"
    },
    "executionInfo": {
     "elapsed": 107994,
     "status": "ok",
     "timestamp": 1728724875352,
     "user": {
      "displayName": "Guoji Fu",
      "userId": "16398754709610840055"
     },
     "user_tz": -480
    },
    "id": "-BALDiwT79bB",
    "outputId": "ba9a5859-6fc6-4c08-c541-f43efb99571e"
   },
   "outputs": [
    {
     "name": "stdout",
     "output_type": "stream",
     "text": [
      "0 tensor(1.6132)\n",
      "10 tensor(1.7345)\n",
      "20 tensor(2.1614)\n",
      "30 tensor(1.8833)\n",
      "40 tensor(1.7851)\n",
      "50 tensor(1.2023)\n",
      "60 tensor(1.1651)\n",
      "70 tensor(0.9399)\n",
      "80 tensor(1.3007)\n",
      "90 tensor(1.3238)\n",
      "100 tensor(1.2024)\n",
      "110 tensor(1.2160)\n",
      "120 tensor(0.9142)\n",
      "130 tensor(0.7337)\n",
      "140 tensor(0.7287)\n",
      "150 tensor(0.8140)\n",
      "160 tensor(0.6293)\n",
      "170 tensor(0.6207)\n",
      "180 tensor(0.3816)\n",
      "190 tensor(0.5310)\n",
      "200 tensor(0.5227)\n",
      "210 tensor(0.4846)\n",
      "220 tensor(0.3281)\n",
      "230 tensor(0.2981)\n",
      "240 tensor(-0.0239)\n",
      "250 tensor(0.1299)\n",
      "260 tensor(0.0240)\n",
      "270 tensor(0.1159)\n",
      "280 tensor(-0.0285)\n",
      "290 tensor(0.1295)\n"
     ]
    }
   ],
   "source": [
    "# Train the network\n",
    "optimizer = torch.optim.Adam( net.parameters() , lr=0.001 )\n",
    "for iter in range(300):\n",
    "    loss_epoch = 0.0\n",
    "    for idx in torch.randperm(num_nodes).tolist(): # shuffle ordering of nodes\n",
    "        walk = generator.sample_walk(idx)\n",
    "        loss = net(walk)\n",
    "        optimizer.zero_grad()\n",
    "        loss.backward()\n",
    "        optimizer.step()\n",
    "        loss_epoch += loss.detach()\n",
    "        with torch.no_grad():\n",
    "            # centering the embedding coordinates\n",
    "            # helps optimization by reducing one degree of freedom\n",
    "            net.node_embedding.weight.sub_(net.node_embedding.weight.mean(dim=0))\n",
    "    # plot the loss value\n",
    "    if not iter%10:\n",
    "        print(iter,loss_epoch/num_nodes)\n",
    "\n"
   ]
  },
  {
   "cell_type": "markdown",
   "metadata": {
    "id": "1awvRsTd7_oj"
   },
   "source": [
    "### Visualize the node embeddings in 2D"
   ]
  },
  {
   "cell_type": "code",
   "execution_count": 10,
   "metadata": {
    "colab": {
     "base_uri": "https://localhost:8080/",
     "height": 863
    },
    "executionInfo": {
     "elapsed": 1149,
     "status": "ok",
     "timestamp": 1728724876497,
     "user": {
      "displayName": "Guoji Fu",
      "userId": "16398754709610840055"
     },
     "user_tz": -480
    },
    "id": "WqCMiE6r7_48",
    "outputId": "29aa0e52-02e0-46c0-d88b-2038b116ae64"
   },
   "outputs": [
    {
     "name": "stdout",
     "output_type": "stream",
     "text": [
      "tensor([[-2.0225, -1.8478],\n",
      "        [-3.8017, -0.2259],\n",
      "        [-2.2903,  0.4939],\n",
      "        [-2.0941, -0.1157],\n",
      "        [-0.5394,  0.1761],\n",
      "        [-2.1079, -0.8048],\n",
      "        [-1.7458,  0.8855],\n",
      "        [ 0.0282, -1.6841],\n",
      "        [ 0.8266, -0.5020],\n",
      "        [ 0.5220,  0.4238],\n",
      "        [-0.5340,  2.0806],\n",
      "        [ 1.7217,  1.8866],\n",
      "        [ 2.6932,  1.0350],\n",
      "        [ 1.8704, -0.4333],\n",
      "        [ 2.0104, -1.3380],\n",
      "        [ 2.3415, -0.4786],\n",
      "        [ 2.6284, -2.3158],\n",
      "        [ 1.4613, -1.0731],\n",
      "        [ 1.0567, -1.3374],\n",
      "        [ 2.0229, -0.2514],\n",
      "        [-0.6737,  1.2896],\n",
      "        [-1.3355,  2.9027],\n",
      "        [-2.0384,  1.2342]]) torch.Size([23, 2])\n"
     ]
    },
    {
     "data": {
      "image/png": "[encoded data removed]",
      "text/plain": [
       "<Figure size 640x480 with 1 Axes>"
      ]
     },
     "metadata": {},
     "output_type": "display_data"
    }
   ],
   "source": [
    "# Visualize the 2D coordinates of the node embeddings\n",
    "x = net.node_embedding.weight.detach()\n",
    "print(x,x.size())\n",
    "\n",
    "# plot 2D coordinates\n",
    "fig = plt.figure()\n",
    "ax = fig.add_subplot(111)\n",
    "ax.scatter(x[:,0], x[:,1])\n",
    "idx = list(range(num_nodes))\n",
    "ax.scatter(x[:,0], x[:,1], c=C, cmap='jet')\n",
    "for i, txt in enumerate(idx):\n",
    "    ax.annotate(txt, (x[:,0][i], x[:,1][i]), textcoords=\"offset points\", xytext=(1,5))\n",
    "ax.title.set_text('2D embdding of nodes')\n",
    "plt.show()"
   ]
  },
  {
   "cell_type": "markdown",
   "metadata": {
    "id": "IAwy-18B6Rh_"
   },
   "source": [
    "### Question 2.3 : Compare visually the deepwalk embedding with the networkx visualization\n"
   ]
  },
  {
   "cell_type": "code",
   "execution_count": 11,
   "metadata": {
    "colab": {
     "base_uri": "https://localhost:8080/",
     "height": 428
    },
    "executionInfo": {
     "elapsed": 11,
     "status": "ok",
     "timestamp": 1728724876498,
     "user": {
      "displayName": "Guoji Fu",
      "userId": "16398754709610840055"
     },
     "user_tz": -480
    },
    "id": "5h5HR5j1BAxn",
    "outputId": "f60bef90-061b-41b6-9b78-2a67202cc9fd"
   },
   "outputs": [
    {
     "data": {
      "image/png": "[encoded data removed]",
      "text/plain": [
       "<Figure size 640x480 with 1 Axes>"
      ]
     },
     "metadata": {},
     "output_type": "display_data"
    }
   ],
   "source": [
    "# Compare with graph edges\n",
    "fig = plt.figure()\n",
    "ax = fig.add_subplot(111)\n",
    "nx.draw(A_nx, ax=ax, node_color=C, cmap='jet', with_labels=True, font_size=10) # visualise node indexes\n",
    "ax.title.set_text('Molecular graph')\n",
    "plt.show()\n"
   ]
  },
  {
   "cell_type": "code",
   "execution_count": null,
   "metadata": {
    "executionInfo": {
     "elapsed": 9,
     "status": "ok",
     "timestamp": 1728724876498,
     "user": {
      "displayName": "Guoji Fu",
      "userId": "16398754709610840055"
     },
     "user_tz": -480
    },
    "id": "dxGRvmOyBAxn"
   },
   "outputs": [],
   "source": []
  },
  {
   "cell_type": "code",
   "execution_count": null,
   "metadata": {
    "executionInfo": {
     "elapsed": 9,
     "status": "ok",
     "timestamp": 1728724876498,
     "user": {
      "displayName": "Guoji Fu",
      "userId": "16398754709610840055"
     },
     "user_tz": -480
    },
    "id": "IcfaQtZ3BAxn"
   },
   "outputs": [],
   "source": []
  }
 ],
 "metadata": {
  "colab": {
   "provenance": []
  },
  "kernelspec": {
   "display_name": "gnn_course",
   "language": "python",
   "name": "python3"
  },
  "language_info": {
   "codemirror_mode": {
    "name": "ipython",
    "version": 3
   },
   "file_extension": ".py",
   "mimetype": "text/x-python",
   "name": "python",
   "nbconvert_exporter": "python",
   "pygments_lexer": "ipython3",
   "version": "3.8.20"
  }
 },
 "nbformat": 4,
 "nbformat_minor": 4
}
