{
 "cells": [
  {
   "cell_type": "markdown",
   "metadata": {},
   "source": [
    "## Formula Sheet for Referencing"
   ]
  },
  {
   "cell_type": "code",
   "execution_count": 1,
   "metadata": {},
   "outputs": [],
   "source": [
    "# Library Import\n",
    "import numpy as np\n",
    "import scipy"
   ]
  },
  {
   "cell_type": "markdown",
   "metadata": {},
   "source": [
    "## Adjacency Matrix, A\n",
    "\n",
    "Refer to Lecture 2: Graph Science. Slide 19\n",
    "\n",
    "* data: Value of Edge I and Edge J. Binary Weights: 1 if exists else 0. Weighted Ver: [0, 1] if exists else 0 \n",
    "* row_idx: Vector representing the node index of the starting edge i, i.e. the row index of W\n",
    "* col_idx: Vector representing the node index of the ending edge j, i.e. the column index of W\n",
    "* shape: Shape of A which is the # of vertices"
   ]
  },
  {
   "cell_type": "code",
   "execution_count": null,
   "metadata": {},
   "outputs": [],
   "source": [
    "# Adjacency Matrix, A\n",
    "A = scipy.sparse.csr_matrix((data, (row_idx, col_idx)), shape=(n, m))# Size of A is Vertices x Vertices"
   ]
  },
  {
   "cell_type": "markdown",
   "metadata": {},
   "source": [
    "## Degree Matrix, D\n",
    "\n",
    "Refer to Lecture 2: Graph Science. Slide 30\n",
    "\n",
    "* D = diag(d<sub>1</sub>, .... d<sub>n</sub>) <- Diagonal Matrix of d<sub>1</sub>, .... d<sub>n</sub>\n",
    "* Value of d<sub>i</sub> = $\\sum_{j} = A_{ij}$ <- Summation of each Adjacency Matrix A's row"
   ]
  },
  {
   "cell_type": "code",
   "execution_count": 7,
   "metadata": {},
   "outputs": [
    {
     "name": "stdout",
     "output_type": "stream",
     "text": [
      "[[3 0]\n",
      " [0 7]]\n"
     ]
    },
    {
     "ename": "",
     "evalue": "",
     "output_type": "error",
     "traceback": [
      "\u001b[1;31mThe Kernel crashed while executing code in the current cell or a previous cell. \n",
      "\u001b[1;31mPlease review the code in the cell(s) to identify a possible cause of the failure. \n",
      "\u001b[1;31mClick <a href='https://aka.ms/vscodeJupyterKernelCrash'>here</a> for more info. \n",
      "\u001b[1;31mView Jupyter <a href='command:jupyter.viewOutput'>log</a> for further details."
     ]
    }
   ],
   "source": [
    "# Degree Matrix, D\n",
    "A = np.array([[1, 2], [3, 4]])\n",
    "d = np.sum(A, axis=1)\n",
    "D = np.diag(d)\n",
    "print(D)"
   ]
  },
  {
   "cell_type": "markdown",
   "metadata": {},
   "source": [
    "## Graph Laplacian, L\n",
    "\n",
    "Refer to Lecture 2: Graph Science. Slide 30\n",
    "\n",
    "* $L_{un}$ = D - A. <- Unnormalized Graph Laplacian\n",
    "* $L$ = $D^{1/2}L_{un}D^{1/2}$ = $I_n - D^{1/2}AD^{1/2}$\n",
    "* Shape of a Graph Laplacian, L = (n x n) where n = |V| <-- Total Number of Vertices"
   ]
  },
  {
   "cell_type": "code",
   "execution_count": null,
   "metadata": {},
   "outputs": [],
   "source": []
  }
 ],
 "metadata": {
  "kernelspec": {
   "display_name": "gnn_course",
   "language": "python",
   "name": "python3"
  },
  "language_info": {
   "codemirror_mode": {
    "name": "ipython",
    "version": 3
   },
   "file_extension": ".py",
   "mimetype": "text/x-python",
   "name": "python",
   "nbconvert_exporter": "python",
   "pygments_lexer": "ipython3",
   "version": "3.8.20"
  }
 },
 "nbformat": 4,
 "nbformat_minor": 2
}
