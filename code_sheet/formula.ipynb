{
 "cells": [
  {
   "cell_type": "markdown",
   "metadata": {},
   "source": [
    "## Formula Sheet for Referencing"
   ]
  },
  {
   "cell_type": "code",
   "execution_count": 1,
   "metadata": {},
   "outputs": [],
   "source": [
    "# Library Import\n",
    "import numpy as np\n",
    "import scipy"
   ]
  },
  {
   "cell_type": "markdown",
   "metadata": {},
   "source": [
    "## Adjacency Matrix, A\n",
    "\n",
    "* data: Value of Edge I and Edge J. Binary Weights: 1 if exists else 0. Weighted Ver: [0, 1] if exists else 0 \n",
    "* row_idx: Vector representing the node index of the starting edge i, i.e. the row index of W\n",
    "* col_idx: Vector representing the node index of the ending edge j, i.e. the column index of W\n",
    "* shape: Shape of A"
   ]
  },
  {
   "cell_type": "code",
   "execution_count": null,
   "metadata": {},
   "outputs": [],
   "source": [
    "# Adjacency Matrix, A\n",
    "A = scipy.sparse.csr_matrix((data, (row_idx, col_idx)), shape=(n, m))# Size of A is Vertices x Vertices"
   ]
  },
  {
   "cell_type": "code",
   "execution_count": null,
   "metadata": {},
   "outputs": [],
   "source": [
    "# Degree Matrix, D\n",
    "# D = diag(d_1, ..., d_n) where d_i = summation of row A_ij\n"
   ]
  }
 ],
 "metadata": {
  "kernelspec": {
   "display_name": "gnn_course",
   "language": "python",
   "name": "python3"
  },
  "language_info": {
   "codemirror_mode": {
    "name": "ipython",
    "version": 3
   },
   "file_extension": ".py",
   "mimetype": "text/x-python",
   "name": "python",
   "nbconvert_exporter": "python",
   "pygments_lexer": "ipython3",
   "version": "3.8.20"
  }
 },
 "nbformat": 4,
 "nbformat_minor": 2
}
