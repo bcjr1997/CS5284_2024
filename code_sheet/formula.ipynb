{
 "cells": [
  {
   "cell_type": "markdown",
   "metadata": {},
   "source": [
    "## Formula Sheet for Referencing"
   ]
  },
  {
   "cell_type": "code",
   "execution_count": 4,
   "metadata": {},
   "outputs": [],
   "source": [
    "# Library Import\n",
    "import numpy as np\n",
    "import scipy\n",
    "import sklearn"
   ]
  },
  {
   "cell_type": "markdown",
   "metadata": {},
   "source": [
    "## Adjacency Matrix, A\n",
    "\n",
    "Refer to Lecture 02: Graph Science, Slide 19. \n",
    "\n",
    "* data: Value of Edge I and Edge J. Binary Weights: $A_{ij} \\in {0, 1}$. Weighted Weights: $A_{ij} \\in [0, 1]$ where weights are normalized in range of $[0, 1]$\n",
    "* row_idx: Vector representing the node index of the starting edge i, i.e. the row index of W\n",
    "* col_idx: Vector representing the node index of the ending edge j, i.e. the column index of W\n",
    "* shape: Shape of A = (n, m) where n, m = |V| = # of Vertices"
   ]
  },
  {
   "cell_type": "code",
   "execution_count": null,
   "metadata": {},
   "outputs": [],
   "source": [
    "# Adjacency Matrix, A\n",
    "A = scipy.sparse.csr_matrix((data, (row_idx, col_idx)), shape=(n, m))# Size of A is Vertices x Vertices"
   ]
  },
  {
   "cell_type": "markdown",
   "metadata": {},
   "source": [
    "## Degree Matrix, D\n",
    "\n",
    "Refer to Lecture 02: Graph Science. Slide 30\n",
    "\n",
    "* D = $diag(d_{1},...,d_{n})$ <- Diagonal Matrix of size N x N where N = |V|, V = Number of Vertices\n",
    "* Value of $d_{i} = \\sum_{j}A_{ij}$ <- Summation of all values of Adjacency Matrix, A's $row_{i}$"
   ]
  },
  {
   "cell_type": "code",
   "execution_count": 2,
   "metadata": {},
   "outputs": [
    {
     "name": "stdout",
     "output_type": "stream",
     "text": [
      "[[ 6  0  0]\n",
      " [ 0 15  0]\n",
      " [ 0  0 24]]\n"
     ]
    }
   ],
   "source": [
    "# Degree Matrix, D\n",
    "# D = diag(d_1, ..., d_n) where d_i = summation of row A_ij\n",
    "\n",
    "A = np.array([[1, 2, 3], [4, 5, 6], [7, 8, 9]])\n",
    "d = np.sum(A, axis=1)\n",
    "D = np.diag(d)\n",
    "print(D)"
   ]
  },
  {
   "cell_type": "markdown",
   "metadata": {},
   "source": [
    "## Un-normalized Graph Laplacian, L\n",
    "\n",
    "Refer to Lecture 02: Graph Science, Slide 30\n",
    "\n",
    "* $L_{un} = D - A$ where D = Degree Matrix, A = Adjacency Matrix"
   ]
  },
  {
   "cell_type": "code",
   "execution_count": null,
   "metadata": {},
   "outputs": [],
   "source": [
    "L_un = D - A"
   ]
  },
  {
   "cell_type": "markdown",
   "metadata": {},
   "source": [
    "## Normalized Graph Laplacian, L\n",
    "\n",
    "Refer to Lecture 02: Graph Science, Slide 30\n",
    "* L = $D^{-1/2}L_{un}D^{-1/2} = I_{n} - D^{-1/2}AD^{-1/2}$ where $I_{n}$= Identity Matrix of Size n, D = Degree Matrix, A = Adjacency Matrix"
   ]
  },
  {
   "cell_type": "markdown",
   "metadata": {},
   "source": [
    "I = np.eye(n) # Create Identity Square Matrix\n",
    "L = I - (D**-1/2).dot(A.dot(D ** -1/2)) # .dot = Dot Product"
   ]
  },
  {
   "cell_type": "markdown",
   "metadata": {},
   "source": [
    "## Graph Spectrum\n",
    "\n",
    "Refer to Lecture 02: Graph Science, Slide 31\n",
    "\n",
    "* L = $U\\wedge U^{T} \\in \\R^{n\\times n}$\n",
    "* U = $[u_{1},...,u_{n}] \\in \\R^{n\\times n}$ where $u_n$ = Laplacian Eigenvectors\n",
    "* $U^{T}U = I_{n}$ where $<u_{k},u_{k'}> = \n",
    "\\begin{cases}\n",
    "1 & \\quad \\text{k = k'}\\\\ \n",
    "0 & \\quad \\text{otherwise}\n",
    "\\end{cases}$\n",
    "* $\\wedge = diag(\\lambda_{1},...,\\lambda_{n}) \\in \\R^{n\\times n}$ where $\\lambda_{1} \\leq \\lambda_{2} .... \\leq \\lambda_{n} \\leq 2$ and $\\lambda_{min} = 0$ and $\\lambda_{n}$ = Laplacian Eigenvalues"
   ]
  },
  {
   "cell_type": "code",
   "execution_count": null,
   "metadata": {},
   "outputs": [],
   "source": [
    "L = U.dot(lamb.dot(U.T)) # lamb = Lambda "
   ]
  },
  {
   "cell_type": "markdown",
   "metadata": {},
   "source": [
    "## Euclidean Distance\n",
    "\n",
    "Refer to Lecture 02: Graph Science, Slide 38\n",
    "\n",
    "* $d_{l_2}(x_i,x_j)$ = $||x_{i} - x_{j}||_{2} = \\sqrt{\\sum_{m=1}^{d}{|x_{i,m} - x_{j,m}|^{2}}}$"
   ]
  },
  {
   "cell_type": "code",
   "execution_count": null,
   "metadata": {},
   "outputs": [],
   "source": [
    "# Using Scikit Learn\n",
    "D = sklearn.metrics.pairwise.pairwise_distances(X, metric='euclidean', n_jobs=1)"
   ]
  },
  {
   "cell_type": "markdown",
   "metadata": {},
   "source": [
    "## Cosine Distance\n",
    "\n",
    "Refer to Lecture 02: Graph Science, Slide 38\n",
    "\n",
    "* $d_{cos}(x_i, x_j)$ = $| cos^{-1}(\\dfrac{<x_i, x_j>}{||x_i||_2||x_j||_2})|$ = $|\\theta_{ij}|$"
   ]
  },
  {
   "cell_type": "code",
   "execution_count": null,
   "metadata": {},
   "outputs": [],
   "source": [
    "# Cosine Distance\n",
    "D = np.abs(np.dot(v, w) / (np.linalg.norm(v) * np.linalg.norm(w)))\n",
    "\n",
    "# Cosine Distance using arccos <- This is mainly used in Lab Tutorials\n",
    "D = np.abs(np.arccos(D))"
   ]
  },
  {
   "cell_type": "markdown",
   "metadata": {},
   "source": [
    "# Standard Pre-Processing\n",
    "\n",
    "Refer to Lecture 02: Graph Science. Slide 40\n",
    "\n",
    "There are 4 types of preprocessing techniques:\n",
    "* Center data along feature dimension a.k.a zero-mean property = $x_i \\leftarrow x_i - mean(\\{x_i\\}) \\in \\R^d$\n",
    "\n",
    "* Normalize data variance along feature dimension a.k.a z-scoring property = $x_i \\leftarrow \\dfrac{x_i}{std(\\{x_i\\})} \\in \\R^d, std(\\{x_i\\})^2 = mean(\\{(x_i - mean({x_i}))^2\\})$\n",
    "\n",
    "* Project data on L2-sphere along feature dimension or data dimension = $x_i \\leftarrow \\dfrac{x_i}{||x_i||_2} \\in \\R^d$\n",
    "\n",
    "* Normalize max and min of feature value = $x_i \\leftarrow \\dfrac{x_i - min(\\{x_i\\})}{max(\\{x_i\\}) - min(\\{x_i\\})} \\in [0, 1]^d$"
   ]
  },
  {
   "cell_type": "code",
   "execution_count": null,
   "metadata": {},
   "outputs": [],
   "source": [
    "# Center Data along feature dimension\n",
    "x = x - np.mean(x, axis=0)\n",
    "\n",
    "# Normalize data variance along feature dimension\n",
    "x = x / np.std(x) # From NumPy Definition: np.std = sqrt(mean(x)), x = abs(x - x.mean()) ** 2\n",
    "\n",
    "# Project data on L2-sphere\n",
    "x =  x / scipy.linalg.norm(x, 2)\n",
    "\n",
    "# Normalize max and min of feature value\n",
    "x = (x - np.min(x)) / (np.max(x) - np.min(x))"
   ]
  },
  {
   "cell_type": "markdown",
   "metadata": {},
   "source": [
    "## "
   ]
  }
 ],
 "metadata": {
  "kernelspec": {
   "display_name": "gnn_course",
   "language": "python",
   "name": "python3"
  },
  "language_info": {
   "codemirror_mode": {
    "name": "ipython",
    "version": 3
   },
   "file_extension": ".py",
   "mimetype": "text/x-python",
   "name": "python",
   "nbconvert_exporter": "python",
   "pygments_lexer": "ipython3",
   "version": "3.8.19"
  }
 },
 "nbformat": 4,
 "nbformat_minor": 2
}
